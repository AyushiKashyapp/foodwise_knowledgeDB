{
  "nbformat": 4,
  "nbformat_minor": 0,
  "metadata": {
    "colab": {
      "provenance": [],
      "authorship_tag": "ABX9TyNu9k6gD3j6J5mRBQLZQYek",
      "include_colab_link": true
    },
    "kernelspec": {
      "name": "python3",
      "display_name": "Python 3"
    },
    "language_info": {
      "name": "python"
    }
  },
  "cells": [
    {
      "cell_type": "markdown",
      "metadata": {
        "id": "view-in-github",
        "colab_type": "text"
      },
      "source": [
        "<a href=\"https://colab.research.google.com/github/AyushiKashyapp/foodwise_knowledgeDB/blob/main/Neo4jGraphCreation.ipynb\" target=\"_parent\"><img src=\"https://colab.research.google.com/assets/colab-badge.svg\" alt=\"Open In Colab\"/></a>"
      ]
    },
    {
      "cell_type": "markdown",
      "source": [
        "# Generating a Neo4j Knowledge Graph using the extracted triples.\n",
        "\n",
        "A knowledge graph created using the triples extracted in the previous parts of the project, sources from the wikipedia pages and web pages of the major stakeholders and committess members of the Food Wise and Food Vision projects."
      ],
      "metadata": {
        "id": "bTWIExWMd0X5"
      }
    },
    {
      "cell_type": "markdown",
      "source": [
        "**Installing required libraries**\n",
        "- xlrd : To import .xlsx file, which stores the extracted triples.\n",
        "- neo4j-driver : To establish connection with Neo4j Sandbox instance."
      ],
      "metadata": {
        "id": "uURxaAuIeeD1"
      }
    },
    {
      "cell_type": "code",
      "source": [
        "!pip install xlrd\n",
        "!pip install neo4j-driver"
      ],
      "metadata": {
        "colab": {
          "base_uri": "https://localhost:8080/"
        },
        "collapsed": true,
        "id": "GHiN2uCX8VsL",
        "outputId": "2bbe7541-f99d-48b8-b0c4-210dbaf7bf1a"
      },
      "execution_count": 17,
      "outputs": [
        {
          "output_type": "stream",
          "name": "stdout",
          "text": [
            "Requirement already satisfied: xlrd in /usr/local/lib/python3.10/dist-packages (2.0.1)\n",
            "Requirement already satisfied: neo4j-driver in /usr/local/lib/python3.10/dist-packages (5.21.0)\n",
            "Requirement already satisfied: pytz in /usr/local/lib/python3.10/dist-packages (from neo4j-driver) (2023.4)\n"
          ]
        }
      ]
    },
    {
      "cell_type": "code",
      "source": [
        "import pandas as pd\n",
        "import re"
      ],
      "metadata": {
        "id": "T1q0K7Iy70_i"
      },
      "execution_count": 18,
      "outputs": []
    },
    {
      "cell_type": "markdown",
      "source": [
        "**Reading the excel file that contains the triples, and stroing them in a dataframe 'triples'.**"
      ],
      "metadata": {
        "id": "fZzOpou0e5MV"
      }
    },
    {
      "cell_type": "code",
      "execution_count": 19,
      "metadata": {
        "id": "XaO9otFB2M0x",
        "colab": {
          "base_uri": "https://localhost:8080/",
          "height": 206
        },
        "outputId": "504ad60d-faa6-4660-8bcb-c9bcb9a9f297"
      },
      "outputs": [
        {
          "output_type": "execute_result",
          "data": {
            "text/plain": [
              "  chunk_id                  head                    type       tail\n",
              "0  Chunk_1               IFA2024                 country  Singapore\n",
              "1  Chunk_1               IFA2024                location  Singapore\n",
              "2  Chunk_1  IFA2024 in Singapore                 country  Singapore\n",
              "3  Chunk_1               Jam Jar             subclass of    jam jar\n",
              "4  Chunk_1              oak tree  has parts of the class     leaves"
            ],
            "text/html": [
              "\n",
              "  <div id=\"df-5f92bd7a-0036-4faa-931b-8ac262843dce\" class=\"colab-df-container\">\n",
              "    <div>\n",
              "<style scoped>\n",
              "    .dataframe tbody tr th:only-of-type {\n",
              "        vertical-align: middle;\n",
              "    }\n",
              "\n",
              "    .dataframe tbody tr th {\n",
              "        vertical-align: top;\n",
              "    }\n",
              "\n",
              "    .dataframe thead th {\n",
              "        text-align: right;\n",
              "    }\n",
              "</style>\n",
              "<table border=\"1\" class=\"dataframe\">\n",
              "  <thead>\n",
              "    <tr style=\"text-align: right;\">\n",
              "      <th></th>\n",
              "      <th>chunk_id</th>\n",
              "      <th>head</th>\n",
              "      <th>type</th>\n",
              "      <th>tail</th>\n",
              "    </tr>\n",
              "  </thead>\n",
              "  <tbody>\n",
              "    <tr>\n",
              "      <th>0</th>\n",
              "      <td>Chunk_1</td>\n",
              "      <td>IFA2024</td>\n",
              "      <td>country</td>\n",
              "      <td>Singapore</td>\n",
              "    </tr>\n",
              "    <tr>\n",
              "      <th>1</th>\n",
              "      <td>Chunk_1</td>\n",
              "      <td>IFA2024</td>\n",
              "      <td>location</td>\n",
              "      <td>Singapore</td>\n",
              "    </tr>\n",
              "    <tr>\n",
              "      <th>2</th>\n",
              "      <td>Chunk_1</td>\n",
              "      <td>IFA2024 in Singapore</td>\n",
              "      <td>country</td>\n",
              "      <td>Singapore</td>\n",
              "    </tr>\n",
              "    <tr>\n",
              "      <th>3</th>\n",
              "      <td>Chunk_1</td>\n",
              "      <td>Jam Jar</td>\n",
              "      <td>subclass of</td>\n",
              "      <td>jam jar</td>\n",
              "    </tr>\n",
              "    <tr>\n",
              "      <th>4</th>\n",
              "      <td>Chunk_1</td>\n",
              "      <td>oak tree</td>\n",
              "      <td>has parts of the class</td>\n",
              "      <td>leaves</td>\n",
              "    </tr>\n",
              "  </tbody>\n",
              "</table>\n",
              "</div>\n",
              "    <div class=\"colab-df-buttons\">\n",
              "\n",
              "  <div class=\"colab-df-container\">\n",
              "    <button class=\"colab-df-convert\" onclick=\"convertToInteractive('df-5f92bd7a-0036-4faa-931b-8ac262843dce')\"\n",
              "            title=\"Convert this dataframe to an interactive table.\"\n",
              "            style=\"display:none;\">\n",
              "\n",
              "  <svg xmlns=\"http://www.w3.org/2000/svg\" height=\"24px\" viewBox=\"0 -960 960 960\">\n",
              "    <path d=\"M120-120v-720h720v720H120Zm60-500h600v-160H180v160Zm220 220h160v-160H400v160Zm0 220h160v-160H400v160ZM180-400h160v-160H180v160Zm440 0h160v-160H620v160ZM180-180h160v-160H180v160Zm440 0h160v-160H620v160Z\"/>\n",
              "  </svg>\n",
              "    </button>\n",
              "\n",
              "  <style>\n",
              "    .colab-df-container {\n",
              "      display:flex;\n",
              "      gap: 12px;\n",
              "    }\n",
              "\n",
              "    .colab-df-convert {\n",
              "      background-color: #E8F0FE;\n",
              "      border: none;\n",
              "      border-radius: 50%;\n",
              "      cursor: pointer;\n",
              "      display: none;\n",
              "      fill: #1967D2;\n",
              "      height: 32px;\n",
              "      padding: 0 0 0 0;\n",
              "      width: 32px;\n",
              "    }\n",
              "\n",
              "    .colab-df-convert:hover {\n",
              "      background-color: #E2EBFA;\n",
              "      box-shadow: 0px 1px 2px rgba(60, 64, 67, 0.3), 0px 1px 3px 1px rgba(60, 64, 67, 0.15);\n",
              "      fill: #174EA6;\n",
              "    }\n",
              "\n",
              "    .colab-df-buttons div {\n",
              "      margin-bottom: 4px;\n",
              "    }\n",
              "\n",
              "    [theme=dark] .colab-df-convert {\n",
              "      background-color: #3B4455;\n",
              "      fill: #D2E3FC;\n",
              "    }\n",
              "\n",
              "    [theme=dark] .colab-df-convert:hover {\n",
              "      background-color: #434B5C;\n",
              "      box-shadow: 0px 1px 3px 1px rgba(0, 0, 0, 0.15);\n",
              "      filter: drop-shadow(0px 1px 2px rgba(0, 0, 0, 0.3));\n",
              "      fill: #FFFFFF;\n",
              "    }\n",
              "  </style>\n",
              "\n",
              "    <script>\n",
              "      const buttonEl =\n",
              "        document.querySelector('#df-5f92bd7a-0036-4faa-931b-8ac262843dce button.colab-df-convert');\n",
              "      buttonEl.style.display =\n",
              "        google.colab.kernel.accessAllowed ? 'block' : 'none';\n",
              "\n",
              "      async function convertToInteractive(key) {\n",
              "        const element = document.querySelector('#df-5f92bd7a-0036-4faa-931b-8ac262843dce');\n",
              "        const dataTable =\n",
              "          await google.colab.kernel.invokeFunction('convertToInteractive',\n",
              "                                                    [key], {});\n",
              "        if (!dataTable) return;\n",
              "\n",
              "        const docLinkHtml = 'Like what you see? Visit the ' +\n",
              "          '<a target=\"_blank\" href=https://colab.research.google.com/notebooks/data_table.ipynb>data table notebook</a>'\n",
              "          + ' to learn more about interactive tables.';\n",
              "        element.innerHTML = '';\n",
              "        dataTable['output_type'] = 'display_data';\n",
              "        await google.colab.output.renderOutput(dataTable, element);\n",
              "        const docLink = document.createElement('div');\n",
              "        docLink.innerHTML = docLinkHtml;\n",
              "        element.appendChild(docLink);\n",
              "      }\n",
              "    </script>\n",
              "  </div>\n",
              "\n",
              "\n",
              "<div id=\"df-1056a828-7788-4b28-b9fc-728b91e844fd\">\n",
              "  <button class=\"colab-df-quickchart\" onclick=\"quickchart('df-1056a828-7788-4b28-b9fc-728b91e844fd')\"\n",
              "            title=\"Suggest charts\"\n",
              "            style=\"display:none;\">\n",
              "\n",
              "<svg xmlns=\"http://www.w3.org/2000/svg\" height=\"24px\"viewBox=\"0 0 24 24\"\n",
              "     width=\"24px\">\n",
              "    <g>\n",
              "        <path d=\"M19 3H5c-1.1 0-2 .9-2 2v14c0 1.1.9 2 2 2h14c1.1 0 2-.9 2-2V5c0-1.1-.9-2-2-2zM9 17H7v-7h2v7zm4 0h-2V7h2v10zm4 0h-2v-4h2v4z\"/>\n",
              "    </g>\n",
              "</svg>\n",
              "  </button>\n",
              "\n",
              "<style>\n",
              "  .colab-df-quickchart {\n",
              "      --bg-color: #E8F0FE;\n",
              "      --fill-color: #1967D2;\n",
              "      --hover-bg-color: #E2EBFA;\n",
              "      --hover-fill-color: #174EA6;\n",
              "      --disabled-fill-color: #AAA;\n",
              "      --disabled-bg-color: #DDD;\n",
              "  }\n",
              "\n",
              "  [theme=dark] .colab-df-quickchart {\n",
              "      --bg-color: #3B4455;\n",
              "      --fill-color: #D2E3FC;\n",
              "      --hover-bg-color: #434B5C;\n",
              "      --hover-fill-color: #FFFFFF;\n",
              "      --disabled-bg-color: #3B4455;\n",
              "      --disabled-fill-color: #666;\n",
              "  }\n",
              "\n",
              "  .colab-df-quickchart {\n",
              "    background-color: var(--bg-color);\n",
              "    border: none;\n",
              "    border-radius: 50%;\n",
              "    cursor: pointer;\n",
              "    display: none;\n",
              "    fill: var(--fill-color);\n",
              "    height: 32px;\n",
              "    padding: 0;\n",
              "    width: 32px;\n",
              "  }\n",
              "\n",
              "  .colab-df-quickchart:hover {\n",
              "    background-color: var(--hover-bg-color);\n",
              "    box-shadow: 0 1px 2px rgba(60, 64, 67, 0.3), 0 1px 3px 1px rgba(60, 64, 67, 0.15);\n",
              "    fill: var(--button-hover-fill-color);\n",
              "  }\n",
              "\n",
              "  .colab-df-quickchart-complete:disabled,\n",
              "  .colab-df-quickchart-complete:disabled:hover {\n",
              "    background-color: var(--disabled-bg-color);\n",
              "    fill: var(--disabled-fill-color);\n",
              "    box-shadow: none;\n",
              "  }\n",
              "\n",
              "  .colab-df-spinner {\n",
              "    border: 2px solid var(--fill-color);\n",
              "    border-color: transparent;\n",
              "    border-bottom-color: var(--fill-color);\n",
              "    animation:\n",
              "      spin 1s steps(1) infinite;\n",
              "  }\n",
              "\n",
              "  @keyframes spin {\n",
              "    0% {\n",
              "      border-color: transparent;\n",
              "      border-bottom-color: var(--fill-color);\n",
              "      border-left-color: var(--fill-color);\n",
              "    }\n",
              "    20% {\n",
              "      border-color: transparent;\n",
              "      border-left-color: var(--fill-color);\n",
              "      border-top-color: var(--fill-color);\n",
              "    }\n",
              "    30% {\n",
              "      border-color: transparent;\n",
              "      border-left-color: var(--fill-color);\n",
              "      border-top-color: var(--fill-color);\n",
              "      border-right-color: var(--fill-color);\n",
              "    }\n",
              "    40% {\n",
              "      border-color: transparent;\n",
              "      border-right-color: var(--fill-color);\n",
              "      border-top-color: var(--fill-color);\n",
              "    }\n",
              "    60% {\n",
              "      border-color: transparent;\n",
              "      border-right-color: var(--fill-color);\n",
              "    }\n",
              "    80% {\n",
              "      border-color: transparent;\n",
              "      border-right-color: var(--fill-color);\n",
              "      border-bottom-color: var(--fill-color);\n",
              "    }\n",
              "    90% {\n",
              "      border-color: transparent;\n",
              "      border-bottom-color: var(--fill-color);\n",
              "    }\n",
              "  }\n",
              "</style>\n",
              "\n",
              "  <script>\n",
              "    async function quickchart(key) {\n",
              "      const quickchartButtonEl =\n",
              "        document.querySelector('#' + key + ' button');\n",
              "      quickchartButtonEl.disabled = true;  // To prevent multiple clicks.\n",
              "      quickchartButtonEl.classList.add('colab-df-spinner');\n",
              "      try {\n",
              "        const charts = await google.colab.kernel.invokeFunction(\n",
              "            'suggestCharts', [key], {});\n",
              "      } catch (error) {\n",
              "        console.error('Error during call to suggestCharts:', error);\n",
              "      }\n",
              "      quickchartButtonEl.classList.remove('colab-df-spinner');\n",
              "      quickchartButtonEl.classList.add('colab-df-quickchart-complete');\n",
              "    }\n",
              "    (() => {\n",
              "      let quickchartButtonEl =\n",
              "        document.querySelector('#df-1056a828-7788-4b28-b9fc-728b91e844fd button');\n",
              "      quickchartButtonEl.style.display =\n",
              "        google.colab.kernel.accessAllowed ? 'block' : 'none';\n",
              "    })();\n",
              "  </script>\n",
              "</div>\n",
              "\n",
              "    </div>\n",
              "  </div>\n"
            ],
            "application/vnd.google.colaboratory.intrinsic+json": {
              "type": "dataframe",
              "variable_name": "triples",
              "summary": "{\n  \"name\": \"triples\",\n  \"rows\": 684,\n  \"fields\": [\n    {\n      \"column\": \"chunk_id\",\n      \"properties\": {\n        \"dtype\": \"category\",\n        \"num_unique_values\": 136,\n        \"samples\": [\n          \"Chunk_74\",\n          \"Chunk_46\",\n          \"Chunk_61\"\n        ],\n        \"semantic_type\": \"\",\n        \"description\": \"\"\n      }\n    },\n    {\n      \"column\": \"head\",\n      \"properties\": {\n        \"dtype\": \"string\",\n        \"num_unique_values\": 409,\n        \"samples\": [\n          \"banking crisis\",\n          \"Islandeady GAA\",\n          \"Taoiseach\"\n        ],\n        \"semantic_type\": \"\",\n        \"description\": \"\"\n      }\n    },\n    {\n      \"column\": \"type\",\n      \"properties\": {\n        \"dtype\": \"category\",\n        \"num_unique_values\": 79,\n        \"samples\": [\n          \"has cause\",\n          \"country\",\n          \"point in time\"\n        ],\n        \"semantic_type\": \"\",\n        \"description\": \"\"\n      }\n    },\n    {\n      \"column\": \"tail\",\n      \"properties\": {\n        \"dtype\": \"category\",\n        \"num_unique_values\": 337,\n        \"samples\": [\n          \"Universal Analytics\",\n          \"The Irish Times\",\n          \"Secretaries of the Department\"\n        ],\n        \"semantic_type\": \"\",\n        \"description\": \"\"\n      }\n    }\n  ]\n}"
            }
          },
          "metadata": {},
          "execution_count": 19
        }
      ],
      "source": [
        "triples = pd.read_excel('triples_data.xlsx')\n",
        "triples.head()"
      ]
    },
    {
      "cell_type": "markdown",
      "source": [
        "**Triple relations cleaning: Replace any non-alphanumeric characters with underscores.**"
      ],
      "metadata": {
        "id": "UPBgu98ShJ6L"
      }
    },
    {
      "cell_type": "code",
      "source": [
        "def sanitize_relation_type(relation):\n",
        "    return re.sub(r'\\W+', '_', relation)"
      ],
      "metadata": {
        "id": "MMlzUIpeAaMf"
      },
      "execution_count": 20,
      "outputs": []
    },
    {
      "cell_type": "markdown",
      "source": [
        "**Creating the knowledge database using Neo4j driver and with the head, cleanned relation text , and tail of the triple.**"
      ],
      "metadata": {
        "id": "6CobcnoRhcqu"
      }
    },
    {
      "cell_type": "code",
      "source": [
        "from neo4j import GraphDatabase, basic_auth\n",
        "\n",
        "driver = GraphDatabase.driver(\n",
        "  \"bolt://3.83.136.242:7687\",\n",
        "  auth=basic_auth(\"neo4j\", \"firings-lock-conflicts\"))\n",
        "\n",
        "def create_knowledge_graph(triples):\n",
        "    with driver.session() as session:\n",
        "        for _, triple in triples.iterrows():\n",
        "            head = triple['head']\n",
        "            relation = sanitize_relation_type(triple['type']) #Applying text cleaning function on the relations in triples.\n",
        "            tail = triple['tail']\n",
        "\n",
        "            cypher_query = f\"\"\"\n",
        "            MERGE (h:Entity {{name: $head}})\n",
        "            MERGE (t:Entity {{name: $tail}})\n",
        "            MERGE (h)-[:{relation.upper()}]->(t)\n",
        "            \"\"\"\n",
        "\n",
        "            session.run(cypher_query, head=head, tail=tail)\n"
      ],
      "metadata": {
        "id": "WDpbfyTE7yn_"
      },
      "execution_count": 21,
      "outputs": []
    },
    {
      "cell_type": "code",
      "source": [
        "create_knowledge_graph(triples)"
      ],
      "metadata": {
        "id": "_GQOIe9o-0ju"
      },
      "execution_count": 22,
      "outputs": []
    },
    {
      "cell_type": "markdown",
      "source": [
        "**Querying Knowledge DB to check the total number of nodes.**"
      ],
      "metadata": {
        "id": "IOZko_g1h_mp"
      }
    },
    {
      "cell_type": "code",
      "source": [
        "from neo4j import GraphDatabase, basic_auth\n",
        "\n",
        "driver = GraphDatabase.driver(\n",
        "  \"bolt://3.83.136.242:7687\",\n",
        "  auth=basic_auth(\"neo4j\", \"firings-lock-conflicts\"))\n",
        "\n",
        "cypher_query = '''\n",
        "MATCH (n)\n",
        "RETURN COUNT(n) AS count\n",
        "LIMIT $limit\n",
        "'''\n",
        "\n",
        "with driver.session(database=\"neo4j\") as session:\n",
        "  results = session.read_transaction(\n",
        "    lambda tx: tx.run(cypher_query,\n",
        "                      limit=10).data())\n",
        "  for record in results:\n",
        "    print(record['count'])\n",
        "\n",
        "driver.close()"
      ],
      "metadata": {
        "colab": {
          "base_uri": "https://localhost:8080/"
        },
        "id": "6yloev8--J-h",
        "outputId": "6af36493-02b8-40cb-ca06-817c9b763cfe"
      },
      "execution_count": 23,
      "outputs": [
        {
          "output_type": "stream",
          "name": "stderr",
          "text": [
            "<ipython-input-23-cfa5160c8f9a>:14: DeprecationWarning: read_transaction has been renamed to execute_read\n",
            "  results = session.read_transaction(\n"
          ]
        },
        {
          "output_type": "stream",
          "name": "stdout",
          "text": [
            "606\n"
          ]
        }
      ]
    },
    {
      "cell_type": "markdown",
      "source": [
        "**Relations where 'Enda Kenny' is the head in the triple.**"
      ],
      "metadata": {
        "id": "qSCCKb2OoEtI"
      }
    },
    {
      "cell_type": "code",
      "source": [
        "from neo4j import GraphDatabase, basic_auth\n",
        "\n",
        "# Establish connection\n",
        "driver = GraphDatabase.driver(\n",
        "    \"bolt://3.83.136.242:7687\",\n",
        "    auth=basic_auth(\"neo4j\", \"firings-lock-conflicts\")\n",
        ")\n",
        "\n",
        "def get_relations_where_head_is_enda(driver):\n",
        "    query = \"\"\"\n",
        "    MATCH (h:Entity {name: 'Enda Kenny'})-[r]->(t:Entity)\n",
        "    RETURN h.name AS head, TYPE(r) AS relation, t.name AS tail\n",
        "    \"\"\"\n",
        "\n",
        "    relations = []\n",
        "    with driver.session() as session:\n",
        "        result = session.run(query)\n",
        "        for record in result:\n",
        "            relations.append({\n",
        "                'head': record['head'],\n",
        "                'relation': record['relation'],\n",
        "                'tail': record['tail']\n",
        "            })\n",
        "\n",
        "    return relations\n",
        "\n",
        "# Execute the query and get the relations\n",
        "relations_where_head_is_enda = get_relations_where_head_is_enda(driver)\n",
        "\n",
        "# Print the relations\n",
        "print(\"Relations where 'Enda Kenny' is the head:\")\n",
        "for relation in relations_where_head_is_enda:\n",
        "    print(relation)\n",
        "\n",
        "# Close the driver connection\n",
        "driver.close()"
      ],
      "metadata": {
        "colab": {
          "base_uri": "https://localhost:8080/"
        },
        "id": "1xDIz6_VZ581",
        "outputId": "6f3fd7ce-7086-4999-d87d-1706148ac50c"
      },
      "execution_count": 24,
      "outputs": [
        {
          "output_type": "stream",
          "name": "stdout",
          "text": [
            "Relations where 'Enda Kenny' is the head:\n",
            "{'head': 'Enda Kenny', 'relation': 'CANDIDACY_IN_ELECTION', 'tail': '2011 general election'}\n",
            "{'head': 'Enda Kenny', 'relation': 'CANDIDACY_IN_ELECTION', 'tail': '2002 general election'}\n",
            "{'head': 'Enda Kenny', 'relation': 'SPOUSE', 'tail': 'Fionnuala OKelly'}\n",
            "{'head': 'Enda Kenny', 'relation': 'CANDIDACY_IN_ELECTION', 'tail': '2011 election campaign'}\n",
            "{'head': 'Enda Kenny', 'relation': 'NOTABLE_WORK', 'tail': 'Second national address'}\n",
            "{'head': 'Enda Kenny', 'relation': 'POSITION_HELD', 'tail': 'European Commission president'}\n",
            "{'head': 'Enda Kenny', 'relation': 'POSITION_HELD', 'tail': 'European Council president'}\n",
            "{'head': 'Enda Kenny', 'relation': 'POSITION_HELD', 'tail': 'Prime Minister'}\n",
            "{'head': 'Enda Kenny', 'relation': 'CANDIDACY_IN_ELECTION', 'tail': '2007 election'}\n",
            "{'head': 'Enda Kenny', 'relation': 'EMPLOYER', 'tail': 'TG4'}\n",
            "{'head': 'Enda Kenny', 'relation': 'EMPLOYER', 'tail': 'RTÉ'}\n",
            "{'head': 'Enda Kenny', 'relation': 'EMPLOYER', 'tail': 'TV3 RTÉ'}\n",
            "{'head': 'Enda Kenny', 'relation': 'POSITION_HELD', 'tail': 'VicePresident of the EPP'}\n",
            "{'head': 'Enda Kenny', 'relation': 'POSITION_HELD', 'tail': 'VicePresident of the European Peoples Party'}\n",
            "{'head': 'Enda Kenny', 'relation': 'MEMBER_OF_POLITICAL_PARTY', 'tail': 'European Peoples Party'}\n",
            "{'head': 'Enda Kenny', 'relation': 'FATHER', 'tail': 'Henry Kenny'}\n",
            "{'head': 'Enda Kenny', 'relation': 'POSITION_HELD', 'tail': 'Minister for Tourism and Trade'}\n",
            "{'head': 'Enda Kenny', 'relation': 'POSITION_HELD', 'tail': 'Leader of the Opposition'}\n",
            "{'head': 'Enda Kenny', 'relation': 'POSITION_HELD', 'tail': 'Minister for Defence'}\n",
            "{'head': 'Enda Kenny', 'relation': 'POSITION_HELD', 'tail': 'Leader of Fine Gael'}\n",
            "{'head': 'Enda Kenny', 'relation': 'POSITION_HELD', 'tail': 'Taoiseach'}\n",
            "{'head': 'Enda Kenny', 'relation': 'MEMBER_OF_POLITICAL_PARTY', 'tail': 'Fine Gael'}\n"
          ]
        }
      ]
    },
    {
      "cell_type": "markdown",
      "source": [
        "**All committee members related to Food Wise, wherever 'Food Wise' is in head or tail part of the triple.**"
      ],
      "metadata": {
        "id": "WEu2tsXxoJ49"
      }
    },
    {
      "cell_type": "code",
      "source": [
        "from neo4j import GraphDatabase, basic_auth\n",
        "\n",
        "# Establish connection\n",
        "driver = GraphDatabase.driver(\n",
        "    \"bolt://3.83.136.242:7687\",\n",
        "    auth=basic_auth(\"neo4j\", \"firings-lock-conflicts\")\n",
        ")\n",
        "\n",
        "def get_all_food_wise_relations(driver):\n",
        "    query = \"\"\"\n",
        "    MATCH (n)-[r]->(m)\n",
        "    WHERE (n.name CONTAINS 'Food Wise' OR m.name CONTAINS 'Food Wise' OR TYPE(r) CONTAINS '_COMMITTEE_MEMBER')\n",
        "    RETURN n AS node1, r AS relation, m AS node2\n",
        "    \"\"\"\n",
        "\n",
        "    relations = []\n",
        "    with driver.session() as session:\n",
        "        result = session.run(query)\n",
        "        for record in result:\n",
        "            node1 = record['node1']\n",
        "            relation = record['relation']\n",
        "            node2 = record['node2']\n",
        "            relations.append({\n",
        "                'node1': node1.get('name', ''),\n",
        "                'relation': relation.type,\n",
        "                'node2': node2.get('name', '')\n",
        "            })\n",
        "\n",
        "    return relations\n",
        "\n",
        "# Execute the query and get the relations\n",
        "food_wise_relations = get_all_food_wise_relations(driver)\n",
        "\n",
        "# Print the relations\n",
        "print(\"Committee Members of 'Food Wise':\")\n",
        "for relation in food_wise_relations:\n",
        "    print(relation)\n",
        "\n",
        "# Close the driver connection\n",
        "driver.close()\n"
      ],
      "metadata": {
        "colab": {
          "base_uri": "https://localhost:8080/"
        },
        "id": "XG9nxIsucUQS",
        "outputId": "a97cdf02-09af-4372-c52d-2375ba6a0dec"
      },
      "execution_count": 61,
      "outputs": [
        {
          "output_type": "stream",
          "name": "stdout",
          "text": [
            "Committee Members of 'Food Wise':\n",
            "{'node1': 'Tom Arnold', 'relation': '_COMMITTEE_MEMBER', 'node2': 'Food Wise 2025'}\n",
            "{'node1': 'Sharon Buckley', 'relation': '_COMMITTEE_MEMBER', 'node2': 'Food Wise 2025'}\n",
            "{'node1': 'Laura Burke', 'relation': '_COMMITTEE_MEMBER', 'node2': 'Food Wise 2025'}\n",
            "{'node1': 'Ailish Byrne', 'relation': '_COMMITTEE_MEMBER', 'node2': 'Food Wise 2025'}\n",
            "{'node1': 'Kieran Calnan', 'relation': '_COMMITTEE_MEMBER', 'node2': 'Food Wise 2025'}\n",
            "{'node1': 'Philip Carroll', 'relation': '_COMMITTEE_MEMBER', 'node2': 'Food Wise 2025'}\n",
            "{'node1': 'Frank Convery', 'relation': '_COMMITTEE_MEMBER', 'node2': 'Food Wise 2025'}\n",
            "{'node1': 'Thomas Duffy', 'relation': '_COMMITTEE_MEMBER', 'node2': 'Food Wise 2025'}\n",
            "{'node1': 'Brendan Dunford', 'relation': '_COMMITTEE_MEMBER', 'node2': 'Food Wise 2025'}\n",
            "{'node1': 'Julie Ennis', 'relation': '_COMMITTEE_MEMBER', 'node2': 'Food Wise 2025'}\n",
            "{'node1': 'Paul Finnerty', 'relation': '_COMMITTEE_MEMBER', 'node2': 'Food Wise 2025'}\n",
            "{'node1': 'Joe Healy', 'relation': '_COMMITTEE_MEMBER', 'node2': 'Food Wise 2025'}\n",
            "{'node1': 'Thia Hennessy', 'relation': '_COMMITTEE_MEMBER', 'node2': 'Food Wise 2025'}\n",
            "{'node1': 'Liam Herlihy', 'relation': '_COMMITTEE_MEMBER', 'node2': 'Food Wise 2025'}\n",
            "{'node1': 'Caroline Keeling', 'relation': '_COMMITTEE_MEMBER', 'node2': 'Food Wise 2025'}\n",
            "{'node1': 'Jerry Long', 'relation': '_COMMITTEE_MEMBER', 'node2': 'Food Wise 2025'}\n",
            "{'node1': 'Oliver Loomes', 'relation': '_COMMITTEE_MEMBER', 'node2': 'Food Wise 2025'}\n",
            "{'node1': 'Dan McSweeney', 'relation': '_COMMITTEE_MEMBER', 'node2': 'Food Wise 2025'}\n",
            "{'node1': 'Pat McCormack', 'relation': '_COMMITTEE_MEMBER', 'node2': 'Food Wise 2025'}\n",
            "{'node1': 'Tom Moran', 'relation': '_COMMITTEE_MEMBER', 'node2': 'Food Wise 2025'}\n",
            "{'node1': 'Brian Murphy', 'relation': '_COMMITTEE_MEMBER', 'node2': 'Food Wise 2025'}\n",
            "{'node1': 'Pat Murphy', 'relation': '_COMMITTEE_MEMBER', 'node2': 'Food Wise 2025'}\n",
            "{'node1': 'Larry Murrin', 'relation': '_COMMITTEE_MEMBER', 'node2': 'Food Wise 2025'}\n",
            "{'node1': \"Colm O'Donnell\", 'relation': '_COMMITTEE_MEMBER', 'node2': 'Food Wise 2025'}\n",
            "{'node1': \"Sean O'Donoghue\", 'relation': '_COMMITTEE_MEMBER', 'node2': 'Food Wise 2025'}\n",
            "{'node1': \"Dolores O'Riordan\", 'relation': '_COMMITTEE_MEMBER', 'node2': 'Food Wise 2025'}\n",
            "{'node1': \"Terence O'Rourke\", 'relation': '_COMMITTEE_MEMBER', 'node2': 'Food Wise 2025'}\n",
            "{'node1': 'Edmond Phelan', 'relation': '_COMMITTEE_MEMBER', 'node2': 'Food Wise 2025'}\n",
            "{'node1': 'Alice Stanton', 'relation': '_COMMITTEE_MEMBER', 'node2': 'Food Wise 2025'}\n",
            "{'node1': 'Siobhán Talbot', 'relation': '_COMMITTEE_MEMBER', 'node2': 'Food Wise 2025'}\n"
          ]
        }
      ]
    },
    {
      "cell_type": "code",
      "source": [
        "from neo4j import GraphDatabase, basic_auth\n",
        "\n",
        "# Establish connection\n",
        "driver = GraphDatabase.driver(\n",
        "    \"bolt://3.83.136.242:7687\",\n",
        "    auth=basic_auth(\"neo4j\", \"firings-lock-conflicts\")\n",
        ")\n",
        "\n",
        "def get_all_food_wise_relations(driver):\n",
        "    query = \"\"\"\n",
        "    MATCH (n)-[r]->(m)\n",
        "    WHERE n.name CONTAINS 'European Union'\n",
        "    RETURN r AS relation, m as node2\n",
        "    \"\"\"\n",
        "\n",
        "\n",
        "    relations = []\n",
        "    with driver.session() as session:\n",
        "        result = session.run(query)\n",
        "        for record in result:\n",
        "            #node1 = record['node1']\n",
        "            relation = record['relation']\n",
        "            node2 = record['node2']\n",
        "            relations.append({\n",
        "                #'node1': node1,\n",
        "                'relation': relation.type,\n",
        "                'node2': node2.get('name', '')\n",
        "            })\n",
        "\n",
        "    return relations\n",
        "\n",
        "# Execute the query and get the relations\n",
        "food_wise_relations = get_all_food_wise_relations(driver)\n",
        "\n",
        "# Print the relations\n",
        "print(\"Head containing 'European Union':\")\n",
        "for relation in food_wise_relations:\n",
        "    print(relation)\n",
        "\n",
        "# Close the driver connection\n",
        "driver.close()\n"
      ],
      "metadata": {
        "colab": {
          "base_uri": "https://localhost:8080/"
        },
        "id": "8t9kH55dxay-",
        "outputId": "385532ef-3357-4dc9-fad4-87e32254c11e"
      },
      "execution_count": 62,
      "outputs": [
        {
          "output_type": "stream",
          "name": "stdout",
          "text": [
            "Head containing 'European Union':\n",
            "{'relation': 'SIGNIFICANT_EVENT', 'node2': 'Brexit referendum'}\n",
            "{'relation': 'PARTICIPANT_IN', 'node2': 'Brexit'}\n",
            "{'relation': 'SIGNIFICANT_EVENT', 'node2': 'Brexit'}\n",
            "{'relation': 'MEMBER_OF', 'node2': 'international'}\n",
            "{'relation': 'INSTANCE_OF', 'node2': 'international'}\n",
            "{'relation': 'INCEPTION', 'node2': '2013'}\n",
            "{'relation': 'COUNTRY', 'node2': 'Ireland'}\n"
          ]
        }
      ]
    },
    {
      "cell_type": "code",
      "source": [
        "from neo4j import GraphDatabase, basic_auth\n",
        "\n",
        "# Establish connection\n",
        "driver = GraphDatabase.driver(\n",
        "    \"bolt://3.83.136.242:7687\",\n",
        "    auth=basic_auth(\"neo4j\", \"firings-lock-conflicts\")\n",
        ")\n",
        "\n",
        "def get_all_food_wise_relations(driver):\n",
        "    query = \"\"\"\n",
        "    MATCH (n)-[r]->(m)\n",
        "    WHERE n.name CONTAINS 'Agriculture' OR r.name CONTAINS 'Agriculture' OR m.name CONTAINS 'Agriculture'\n",
        "    RETURN n.name AS node1, r AS relation, m AS node2\n",
        "    \"\"\"\n",
        "\n",
        "\n",
        "    relations = []\n",
        "    with driver.session() as session:\n",
        "        result = session.run(query)\n",
        "        for record in result:\n",
        "            node1 = record['node1']\n",
        "            relation = record['relation']\n",
        "            node2 = record['node2']\n",
        "            relations.append({\n",
        "                'node1': node1,\n",
        "                'relation': relation.type,\n",
        "                'node2': node2.get('name', '')\n",
        "            })\n",
        "\n",
        "    return relations\n",
        "\n",
        "# Execute the query and get the relations\n",
        "food_wise_relations = get_all_food_wise_relations(driver)\n",
        "\n",
        "# Print the relations\n",
        "print(\"Head, Relation or Tail containing 'Agriculture':\")\n",
        "for relation in food_wise_relations:\n",
        "    print(relation)\n",
        "\n",
        "# Close the driver connection\n",
        "driver.close()\n"
      ],
      "metadata": {
        "colab": {
          "base_uri": "https://localhost:8080/"
        },
        "outputId": "4196c04c-ebe2-4179-96fb-60cdeddcd8ea",
        "id": "mHFs16CNznE1"
      },
      "execution_count": 63,
      "outputs": [
        {
          "output_type": "stream",
          "name": "stdout",
          "text": [
            "Head, Relation or Tail containing 'Agriculture':\n",
            "{'node1': 'Department of Agriculture Food and the Marine', 'relation': 'PARENT_ORGANIZATION', 'node2': 'Government of Ireland'}\n",
            "{'node1': 'Government of Ireland', 'relation': 'SUBSIDIARY', 'node2': 'Department of Agriculture Food and the Marine'}\n",
            "{'node1': 'Minister for Agriculture Food and the Marine', 'relation': 'PART_OF', 'node2': 'Government of Ireland'}\n",
            "{'node1': 'Agriculture House Kildare Street', 'relation': 'LOCATED_IN_THE_ADMINISTRATIVE_TERRITORIAL_ENTITY', 'node2': 'Dublin'}\n",
            "{'node1': 'Department of Agriculture Food and the Marine', 'relation': 'HEADQUARTERS_LOCATION', 'node2': 'headquarters'}\n",
            "{'node1': 'Department of Agriculture', 'relation': 'INCEPTION', 'node2': '1919'}\n",
            "{'node1': 'Robert Barton', 'relation': 'POSITION_HELD', 'node2': 'Minister for Agriculture'}\n",
            "{'node1': 'Horace Plunkett', 'relation': 'POSITION_HELD', 'node2': 'Minister for Agriculture'}\n",
            "{'node1': 'Department of Agriculture', 'relation': 'OFFICE_HELD_BY_HEAD_OF_THE_ORGANIZATION', 'node2': 'Minister for Agriculture'}\n",
            "{'node1': 'Minister for Agriculture', 'relation': 'INCEPTION', 'node2': '1919'}\n",
            "{'node1': 'Department', 'relation': 'OFFICE_HELD_BY_HEAD_OF_THE_ORGANIZATION', 'node2': 'Minister for Lands and Agriculture'}\n",
            "{'node1': 'Minister for Lands and Agriculture', 'relation': 'INSTANCE_OF', 'node2': 'Department'}\n",
            "{'node1': 'Minister for Lands and Agriculture', 'relation': 'PART_OF', 'node2': 'Department'}\n",
            "{'node1': 'Minister for Agriculture Food and the Marine', 'relation': 'INCEPTION', 'node2': '9 March 2011'}\n",
            "{'node1': 'Michael Creed', 'relation': 'POSITION_HELD', 'node2': 'Minister for Agriculture'}\n",
            "{'node1': 'Minister for Agriculture', 'relation': 'OFFICEHOLDER', 'node2': 'Michael Creed'}\n"
          ]
        }
      ]
    },
    {
      "cell_type": "code",
      "source": [
        "from neo4j import GraphDatabase, basic_auth\n",
        "\n",
        "# Establish connection\n",
        "driver = GraphDatabase.driver(\n",
        "    \"bolt://3.83.136.242:7687\",\n",
        "    auth=basic_auth(\"neo4j\", \"firings-lock-conflicts\")\n",
        ")\n",
        "\n",
        "def get_all_food_wise_relations(driver):\n",
        "    query = \"\"\"\n",
        "    MATCH (n)-[r]->(m)\n",
        "    WHERE n.name CONTAINS 'Angela' OR m.name CONTAINS 'Angela'\n",
        "    RETURN n as node1, r as relation, m as node2\n",
        "    \"\"\"\n",
        "\n",
        "\n",
        "    relations = []\n",
        "    with driver.session() as session:\n",
        "        result = session.run(query)\n",
        "        for record in result:\n",
        "            node1 = record['node1']\n",
        "            relation = record['relation']\n",
        "            node2 = record['node2']\n",
        "            relations.append({\n",
        "                'node1': node1.get('name', ''),\n",
        "                'relation': relation.type,\n",
        "                'node2': node2.get('name', '')\n",
        "            })\n",
        "\n",
        "    return relations\n",
        "\n",
        "# Execute the query and get the relations\n",
        "food_wise_relations = get_all_food_wise_relations(driver)\n",
        "\n",
        "# Print the relations\n",
        "print(\"Head OR Tail containing 'Angela':\")\n",
        "for relation in food_wise_relations:\n",
        "    print(relation)\n",
        "\n",
        "# Close the driver connection\n",
        "driver.close()\n"
      ],
      "metadata": {
        "colab": {
          "base_uri": "https://localhost:8080/"
        },
        "id": "HHi8JEfj284J",
        "outputId": "100a3d67-b72a-4831-8961-f7a23c4e44da"
      },
      "execution_count": 64,
      "outputs": [
        {
          "output_type": "stream",
          "name": "stdout",
          "text": [
            "Head OR Tail containing 'Angela':\n",
            "{'node1': 'German chancellor', 'relation': 'OFFICEHOLDER', 'node2': 'Angela Merkel'}\n",
            "{'node1': 'Angela Merkel', 'relation': 'POSITION_HELD', 'node2': 'German chancellor'}\n",
            "{'node1': 'chancellor', 'relation': 'OFFICEHOLDER', 'node2': 'Angela Merkel'}\n",
            "{'node1': 'Angela Merkel', 'relation': 'POSITION_HELD', 'node2': 'chancellor'}\n",
            "{'node1': 'German Chancellor', 'relation': 'OFFICEHOLDER', 'node2': 'Angela Merkel'}\n",
            "{'node1': 'Angela Merkel', 'relation': 'POSITION_HELD', 'node2': 'German Chancellor'}\n",
            "{'node1': 'Angela Merkel', 'relation': 'MEMBER_OF_POLITICAL_PARTY', 'node2': 'Merkels CDU'}\n",
            "{'node1': 'Merkels CDU', 'relation': 'CHAIRPERSON', 'node2': 'Angela Merkel'}\n",
            "{'node1': 'Angela Merkel', 'relation': 'MEMBER_OF_POLITICAL_PARTY', 'node2': 'Merkels CDU party'}\n",
            "{'node1': 'Merkels CDU party', 'relation': 'CHAIRPERSON', 'node2': 'Angela Merkel'}\n"
          ]
        }
      ]
    },
    {
      "cell_type": "code",
      "source": [
        "from neo4j import GraphDatabase, basic_auth\n",
        "\n",
        "# Establish connection\n",
        "driver = GraphDatabase.driver(\n",
        "    \"bolt://3.83.136.242:7687\",\n",
        "    auth=basic_auth(\"neo4j\", \"firings-lock-conflicts\")\n",
        ")\n",
        "\n",
        "def get_all_food_wise_relations(driver):\n",
        "    query = \"\"\"\n",
        "    MATCH (n)-[r]->(m)\n",
        "    WHERE n.name CONTAINS 'Tom Arnold' OR m.name CONTAINS 'Tom Arnold'\n",
        "    RETURN n as node1, r as relation, m as node2\n",
        "    \"\"\"\n",
        "\n",
        "\n",
        "    relations = []\n",
        "    with driver.session() as session:\n",
        "        result = session.run(query)\n",
        "        for record in result:\n",
        "            node1 = record['node1']\n",
        "            relation = record['relation']\n",
        "            node2 = record['node2']\n",
        "            relations.append({\n",
        "                'node1': node1.get('name', ''),\n",
        "                'relation': relation.type,\n",
        "                'node2': node2.get('name', '')\n",
        "            })\n",
        "\n",
        "    return relations\n",
        "\n",
        "# Execute the query and get the relations\n",
        "food_wise_relations = get_all_food_wise_relations(driver)\n",
        "\n",
        "# Print the relations\n",
        "print(\"Head or Tail containing 'Tom Arnold':\")\n",
        "for relation in food_wise_relations:\n",
        "    print(relation)\n",
        "\n",
        "# Close the driver connection\n",
        "driver.close()"
      ],
      "metadata": {
        "colab": {
          "base_uri": "https://localhost:8080/"
        },
        "id": "jrTlDmja37zA",
        "outputId": "b0642aa2-04a1-4ae3-d615-c396fcb91160"
      },
      "execution_count": 65,
      "outputs": [
        {
          "output_type": "stream",
          "name": "stdout",
          "text": [
            "Head or Tail containing 'Tom Arnold':\n",
            "{'node1': 'Tom Arnold', 'relation': 'FIELD_OF_WORK', 'node2': 'agricultural economist'}\n",
            "{'node1': 'Tom Arnold', 'relation': 'OCCUPATION', 'node2': 'agricultural economist'}\n",
            "{'node1': 'Tom Arnold', 'relation': 'EDUCATED_AT', 'node2': 'University College Dublin'}\n",
            "{'node1': 'Tom Arnold', 'relation': 'EDUCATED_AT', 'node2': 'Université catholique de Louvain'}\n",
            "{'node1': 'Tom Arnold', 'relation': 'EDUCATED_AT', 'node2': 'Trinity College Dublin'}\n",
            "{'node1': 'Tom Arnold', 'relation': 'POSITION_HELD', 'node2': 'European Commissioner for Social Affairs'}\n",
            "{'node1': 'Tom Arnold', 'relation': '_COMMITTEE_MEMBER', 'node2': 'Food Wise 2025'}\n"
          ]
        }
      ]
    },
    {
      "cell_type": "code",
      "source": [
        "from neo4j import GraphDatabase, basic_auth\n",
        "\n",
        "# Establish connection\n",
        "driver = GraphDatabase.driver(\n",
        "    \"bolt://3.83.136.242:7687\",\n",
        "    auth=basic_auth(\"neo4j\", \"firings-lock-conflicts\")\n",
        ")\n",
        "\n",
        "def get_all_food_wise_relations(driver):\n",
        "    query = \"\"\"\n",
        "    MATCH (n)-[r]->(m)\n",
        "    WHERE n.name CONTAINS 'Glenisk' OR m.name CONTAINS 'Glenisk'\n",
        "    RETURN n as node1, r as relation, m as node2\n",
        "    \"\"\"\n",
        "\n",
        "\n",
        "    relations = []\n",
        "    with driver.session() as session:\n",
        "        result = session.run(query)\n",
        "        for record in result:\n",
        "            node1 = record['node1']\n",
        "            relation = record['relation']\n",
        "            node2 = record['node2']\n",
        "            relations.append({\n",
        "                'node1': node1.get('name', ''),\n",
        "                'relation': relation.type,\n",
        "                'node2': node2.get('name', '')\n",
        "            })\n",
        "\n",
        "    return relations\n",
        "\n",
        "# Execute the query and get the relations\n",
        "food_wise_relations = get_all_food_wise_relations(driver)\n",
        "\n",
        "# Print the relations\n",
        "print(\"Head or Tail containing 'Glenisk':\")\n",
        "for relation in food_wise_relations:\n",
        "    print(relation)\n",
        "\n",
        "# Close the driver connection\n",
        "driver.close()"
      ],
      "metadata": {
        "colab": {
          "base_uri": "https://localhost:8080/"
        },
        "outputId": "37927281-333b-4608-f988-2464a4dd9275",
        "id": "r4vL8nYq5qxC"
      },
      "execution_count": 69,
      "outputs": [
        {
          "output_type": "stream",
          "name": "stdout",
          "text": [
            "Head or Tail containing 'Glenisk':\n",
            "{'node1': 'Statistics StatisticsGlenisk', 'relation': 'INSTANCE_OF', 'node2': 'As Irelands bestl'}\n",
            "{'node1': 'As Irelands bestl', 'relation': 'PUBLISHER', 'node2': 'Statistics StatisticsGlenisk'}\n",
            "{'node1': 'Glenisk', 'relation': 'LOCATED_IN_THE_ADMINISTRATIVE_TERRITORIAL_ENTITY', 'node2': 'Killeigh Co Offaly'}\n",
            "{'node1': 'Glenisk', 'relation': 'LOCATED_IN_THE_ADMINISTRATIVE_TERRITORIAL_ENTITY', 'node2': 'Killeigh'}\n",
            "{'node1': 'Glenisk', 'relation': 'PRODUCT_OR_MATERIAL_PRODUCED', 'node2': 'yogurt'}\n",
            "{'node1': 'Glenisk', 'relation': 'HEADQUARTERS_LOCATION', 'node2': 'Killeigh'}\n"
          ]
        }
      ]
    },
    {
      "cell_type": "code",
      "source": [
        "from neo4j import GraphDatabase, basic_auth\n",
        "\n",
        "# Establish connection\n",
        "driver = GraphDatabase.driver(\n",
        "    \"bolt://3.83.136.242:7687\",\n",
        "    auth=basic_auth(\"neo4j\", \"firings-lock-conflicts\")\n",
        ")\n",
        "\n",
        "def get_all_food_wise_relations(driver):\n",
        "    query = \"\"\"\n",
        "    MATCH (n)-[r]->(m)\n",
        "    WHERE n.name CONTAINS 'dairy' OR m.name CONTAINS 'dairy'\n",
        "    RETURN n as node1, r as relation, m as node2\n",
        "    \"\"\"\n",
        "\n",
        "\n",
        "    relations = []\n",
        "    with driver.session() as session:\n",
        "        result = session.run(query)\n",
        "        for record in result:\n",
        "            node1 = record['node1']\n",
        "            relation = record['relation']\n",
        "            node2 = record['node2']\n",
        "            relations.append({\n",
        "                'node1': node1.get('name', ''),\n",
        "                'relation': relation.type,\n",
        "                'node2': node2.get('name', '')\n",
        "            })\n",
        "\n",
        "    return relations\n",
        "\n",
        "# Execute the query and get the relations\n",
        "food_wise_relations = get_all_food_wise_relations(driver)\n",
        "\n",
        "# Print the relations\n",
        "print(\"Head or Tail containing 'dairy':\")\n",
        "for relation in food_wise_relations:\n",
        "    print(relation)\n",
        "\n",
        "# Close the driver connection\n",
        "driver.close()"
      ],
      "metadata": {
        "colab": {
          "base_uri": "https://localhost:8080/"
        },
        "outputId": "7a658796-bb6a-47fa-ab86-a1c7a48b1c07",
        "id": "6DC0OR2y7Q9z"
      },
      "execution_count": 70,
      "outputs": [
        {
          "output_type": "stream",
          "name": "stdout",
          "text": [
            "Head or Tail containing 'dairy':\n",
            "{'node1': 'dairy farms', 'relation': 'PART_OF', 'node2': 'agricultural sector'}\n",
            "{'node1': 'dairy farms', 'relation': 'SUBCLASS_OF', 'node2': 'agricultural sector'}\n",
            "{'node1': 'milk', 'relation': 'SUBCLASS_OF', 'node2': 'dairy'}\n",
            "{'node1': 'yogurt', 'relation': 'SUBCLASS_OF', 'node2': 'dairy'}\n",
            "{'node1': 'milk', 'relation': 'SUBCLASS_OF', 'node2': 'dairy product'}\n",
            "{'node1': 'organic milk', 'relation': 'SUBCLASS_OF', 'node2': 'dairy products'}\n",
            "{'node1': 'organic milk', 'relation': 'SUBCLASS_OF', 'node2': 'dairy product'}\n"
          ]
        }
      ]
    },
    {
      "cell_type": "code",
      "source": [],
      "metadata": {
        "id": "a5PbYwM05oIu"
      },
      "execution_count": null,
      "outputs": []
    }
  ]
}
