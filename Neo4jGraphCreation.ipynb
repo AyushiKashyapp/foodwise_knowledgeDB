{
  "nbformat": 4,
  "nbformat_minor": 0,
  "metadata": {
    "colab": {
      "provenance": [],
      "authorship_tag": "ABX9TyM4UMG9gKDj2BS5b+OvHecH",
      "include_colab_link": true
    },
    "kernelspec": {
      "name": "python3",
      "display_name": "Python 3"
    },
    "language_info": {
      "name": "python"
    }
  },
  "cells": [
    {
      "cell_type": "markdown",
      "metadata": {
        "id": "view-in-github",
        "colab_type": "text"
      },
      "source": [
        "<a href=\"https://colab.research.google.com/github/AyushiKashyapp/foodwise_knowledgeDB/blob/main/Neo4jGraphCreation.ipynb\" target=\"_parent\"><img src=\"https://colab.research.google.com/assets/colab-badge.svg\" alt=\"Open In Colab\"/></a>"
      ]
    },
    {
      "cell_type": "markdown",
      "source": [
        "# Generating a Neo4j Knowledge Graph using the extracted triples.\n",
        "\n",
        "A knowledge graph created using the triples extracted in the previous parts of the project, sources from the wikipedia pages and web pages of the major stakeholders and committess members of the Food Wise and Food Vision projects."
      ],
      "metadata": {
        "id": "bTWIExWMd0X5"
      }
    },
    {
      "cell_type": "markdown",
      "source": [
        "**Installing required libraries**\n",
        "- xlrd : To import .xlsx file, which stores the extracted triples.\n",
        "- neo4j-driver : To establish connection with Neo4j Sandbox instance."
      ],
      "metadata": {
        "id": "uURxaAuIeeD1"
      }
    },
    {
      "cell_type": "code",
      "source": [
        "!pip install xlrd\n",
        "!pip install neo4j-driver"
      ],
      "metadata": {
        "colab": {
          "base_uri": "https://localhost:8080/"
        },
        "collapsed": true,
        "id": "GHiN2uCX8VsL",
        "outputId": "2bbe7541-f99d-48b8-b0c4-210dbaf7bf1a"
      },
      "execution_count": 17,
      "outputs": [
        {
          "output_type": "stream",
          "name": "stdout",
          "text": [
            "Requirement already satisfied: xlrd in /usr/local/lib/python3.10/dist-packages (2.0.1)\n",
            "Requirement already satisfied: neo4j-driver in /usr/local/lib/python3.10/dist-packages (5.21.0)\n",
            "Requirement already satisfied: pytz in /usr/local/lib/python3.10/dist-packages (from neo4j-driver) (2023.4)\n"
          ]
        }
      ]
    },
    {
      "cell_type": "code",
      "source": [
        "import pandas as pd\n",
        "import re"
      ],
      "metadata": {
        "id": "T1q0K7Iy70_i"
      },
      "execution_count": 18,
      "outputs": []
    },
    {
      "cell_type": "markdown",
      "source": [
        "**Reading the excel file that contains the triples, and stroing them in a dataframe 'triples'.**"
      ],
      "metadata": {
        "id": "fZzOpou0e5MV"
      }
    },
    {
      "cell_type": "code",
      "execution_count": 19,
      "metadata": {
        "id": "XaO9otFB2M0x",
        "colab": {
          "base_uri": "https://localhost:8080/",
          "height": 206
        },
        "outputId": "504ad60d-faa6-4660-8bcb-c9bcb9a9f297"
      },
      "outputs": [
        {
          "output_type": "execute_result",
          "data": {
            "text/plain": [
              "  chunk_id                  head                    type       tail\n",
              "0  Chunk_1               IFA2024                 country  Singapore\n",
              "1  Chunk_1               IFA2024                location  Singapore\n",
              "2  Chunk_1  IFA2024 in Singapore                 country  Singapore\n",
              "3  Chunk_1               Jam Jar             subclass of    jam jar\n",
              "4  Chunk_1              oak tree  has parts of the class     leaves"
            ],
            "text/html": [
              "\n",
              "  <div id=\"df-5f92bd7a-0036-4faa-931b-8ac262843dce\" class=\"colab-df-container\">\n",
              "    <div>\n",
              "<style scoped>\n",
              "    .dataframe tbody tr th:only-of-type {\n",
              "        vertical-align: middle;\n",
              "    }\n",
              "\n",
              "    .dataframe tbody tr th {\n",
              "        vertical-align: top;\n",
              "    }\n",
              "\n",
              "    .dataframe thead th {\n",
              "        text-align: right;\n",
              "    }\n",
              "</style>\n",
              "<table border=\"1\" class=\"dataframe\">\n",
              "  <thead>\n",
              "    <tr style=\"text-align: right;\">\n",
              "      <th></th>\n",
              "      <th>chunk_id</th>\n",
              "      <th>head</th>\n",
              "      <th>type</th>\n",
              "      <th>tail</th>\n",
              "    </tr>\n",
              "  </thead>\n",
              "  <tbody>\n",
              "    <tr>\n",
              "      <th>0</th>\n",
              "      <td>Chunk_1</td>\n",
              "      <td>IFA2024</td>\n",
              "      <td>country</td>\n",
              "      <td>Singapore</td>\n",
              "    </tr>\n",
              "    <tr>\n",
              "      <th>1</th>\n",
              "      <td>Chunk_1</td>\n",
              "      <td>IFA2024</td>\n",
              "      <td>location</td>\n",
              "      <td>Singapore</td>\n",
              "    </tr>\n",
              "    <tr>\n",
              "      <th>2</th>\n",
              "      <td>Chunk_1</td>\n",
              "      <td>IFA2024 in Singapore</td>\n",
              "      <td>country</td>\n",
              "      <td>Singapore</td>\n",
              "    </tr>\n",
              "    <tr>\n",
              "      <th>3</th>\n",
              "      <td>Chunk_1</td>\n",
              "      <td>Jam Jar</td>\n",
              "      <td>subclass of</td>\n",
              "      <td>jam jar</td>\n",
              "    </tr>\n",
              "    <tr>\n",
              "      <th>4</th>\n",
              "      <td>Chunk_1</td>\n",
              "      <td>oak tree</td>\n",
              "      <td>has parts of the class</td>\n",
              "      <td>leaves</td>\n",
              "    </tr>\n",
              "  </tbody>\n",
              "</table>\n",
              "</div>\n",
              "    <div class=\"colab-df-buttons\">\n",
              "\n",
              "  <div class=\"colab-df-container\">\n",
              "    <button class=\"colab-df-convert\" onclick=\"convertToInteractive('df-5f92bd7a-0036-4faa-931b-8ac262843dce')\"\n",
              "            title=\"Convert this dataframe to an interactive table.\"\n",
              "            style=\"display:none;\">\n",
              "\n",
              "  <svg xmlns=\"http://www.w3.org/2000/svg\" height=\"24px\" viewBox=\"0 -960 960 960\">\n",
              "    <path d=\"M120-120v-720h720v720H120Zm60-500h600v-160H180v160Zm220 220h160v-160H400v160Zm0 220h160v-160H400v160ZM180-400h160v-160H180v160Zm440 0h160v-160H620v160ZM180-180h160v-160H180v160Zm440 0h160v-160H620v160Z\"/>\n",
              "  </svg>\n",
              "    </button>\n",
              "\n",
              "  <style>\n",
              "    .colab-df-container {\n",
              "      display:flex;\n",
              "      gap: 12px;\n",
              "    }\n",
              "\n",
              "    .colab-df-convert {\n",
              "      background-color: #E8F0FE;\n",
              "      border: none;\n",
              "      border-radius: 50%;\n",
              "      cursor: pointer;\n",
              "      display: none;\n",
              "      fill: #1967D2;\n",
              "      height: 32px;\n",
              "      padding: 0 0 0 0;\n",
              "      width: 32px;\n",
              "    }\n",
              "\n",
              "    .colab-df-convert:hover {\n",
              "      background-color: #E2EBFA;\n",
              "      box-shadow: 0px 1px 2px rgba(60, 64, 67, 0.3), 0px 1px 3px 1px rgba(60, 64, 67, 0.15);\n",
              "      fill: #174EA6;\n",
              "    }\n",
              "\n",
              "    .colab-df-buttons div {\n",
              "      margin-bottom: 4px;\n",
              "    }\n",
              "\n",
              "    [theme=dark] .colab-df-convert {\n",
              "      background-color: #3B4455;\n",
              "      fill: #D2E3FC;\n",
              "    }\n",
              "\n",
              "    [theme=dark] .colab-df-convert:hover {\n",
              "      background-color: #434B5C;\n",
              "      box-shadow: 0px 1px 3px 1px rgba(0, 0, 0, 0.15);\n",
              "      filter: drop-shadow(0px 1px 2px rgba(0, 0, 0, 0.3));\n",
              "      fill: #FFFFFF;\n",
              "    }\n",
              "  </style>\n",
              "\n",
              "    <script>\n",
              "      const buttonEl =\n",
              "        document.querySelector('#df-5f92bd7a-0036-4faa-931b-8ac262843dce button.colab-df-convert');\n",
              "      buttonEl.style.display =\n",
              "        google.colab.kernel.accessAllowed ? 'block' : 'none';\n",
              "\n",
              "      async function convertToInteractive(key) {\n",
              "        const element = document.querySelector('#df-5f92bd7a-0036-4faa-931b-8ac262843dce');\n",
              "        const dataTable =\n",
              "          await google.colab.kernel.invokeFunction('convertToInteractive',\n",
              "                                                    [key], {});\n",
              "        if (!dataTable) return;\n",
              "\n",
              "        const docLinkHtml = 'Like what you see? Visit the ' +\n",
              "          '<a target=\"_blank\" href=https://colab.research.google.com/notebooks/data_table.ipynb>data table notebook</a>'\n",
              "          + ' to learn more about interactive tables.';\n",
              "        element.innerHTML = '';\n",
              "        dataTable['output_type'] = 'display_data';\n",
              "        await google.colab.output.renderOutput(dataTable, element);\n",
              "        const docLink = document.createElement('div');\n",
              "        docLink.innerHTML = docLinkHtml;\n",
              "        element.appendChild(docLink);\n",
              "      }\n",
              "    </script>\n",
              "  </div>\n",
              "\n",
              "\n",
              "<div id=\"df-1056a828-7788-4b28-b9fc-728b91e844fd\">\n",
              "  <button class=\"colab-df-quickchart\" onclick=\"quickchart('df-1056a828-7788-4b28-b9fc-728b91e844fd')\"\n",
              "            title=\"Suggest charts\"\n",
              "            style=\"display:none;\">\n",
              "\n",
              "<svg xmlns=\"http://www.w3.org/2000/svg\" height=\"24px\"viewBox=\"0 0 24 24\"\n",
              "     width=\"24px\">\n",
              "    <g>\n",
              "        <path d=\"M19 3H5c-1.1 0-2 .9-2 2v14c0 1.1.9 2 2 2h14c1.1 0 2-.9 2-2V5c0-1.1-.9-2-2-2zM9 17H7v-7h2v7zm4 0h-2V7h2v10zm4 0h-2v-4h2v4z\"/>\n",
              "    </g>\n",
              "</svg>\n",
              "  </button>\n",
              "\n",
              "<style>\n",
              "  .colab-df-quickchart {\n",
              "      --bg-color: #E8F0FE;\n",
              "      --fill-color: #1967D2;\n",
              "      --hover-bg-color: #E2EBFA;\n",
              "      --hover-fill-color: #174EA6;\n",
              "      --disabled-fill-color: #AAA;\n",
              "      --disabled-bg-color: #DDD;\n",
              "  }\n",
              "\n",
              "  [theme=dark] .colab-df-quickchart {\n",
              "      --bg-color: #3B4455;\n",
              "      --fill-color: #D2E3FC;\n",
              "      --hover-bg-color: #434B5C;\n",
              "      --hover-fill-color: #FFFFFF;\n",
              "      --disabled-bg-color: #3B4455;\n",
              "      --disabled-fill-color: #666;\n",
              "  }\n",
              "\n",
              "  .colab-df-quickchart {\n",
              "    background-color: var(--bg-color);\n",
              "    border: none;\n",
              "    border-radius: 50%;\n",
              "    cursor: pointer;\n",
              "    display: none;\n",
              "    fill: var(--fill-color);\n",
              "    height: 32px;\n",
              "    padding: 0;\n",
              "    width: 32px;\n",
              "  }\n",
              "\n",
              "  .colab-df-quickchart:hover {\n",
              "    background-color: var(--hover-bg-color);\n",
              "    box-shadow: 0 1px 2px rgba(60, 64, 67, 0.3), 0 1px 3px 1px rgba(60, 64, 67, 0.15);\n",
              "    fill: var(--button-hover-fill-color);\n",
              "  }\n",
              "\n",
              "  .colab-df-quickchart-complete:disabled,\n",
              "  .colab-df-quickchart-complete:disabled:hover {\n",
              "    background-color: var(--disabled-bg-color);\n",
              "    fill: var(--disabled-fill-color);\n",
              "    box-shadow: none;\n",
              "  }\n",
              "\n",
              "  .colab-df-spinner {\n",
              "    border: 2px solid var(--fill-color);\n",
              "    border-color: transparent;\n",
              "    border-bottom-color: var(--fill-color);\n",
              "    animation:\n",
              "      spin 1s steps(1) infinite;\n",
              "  }\n",
              "\n",
              "  @keyframes spin {\n",
              "    0% {\n",
              "      border-color: transparent;\n",
              "      border-bottom-color: var(--fill-color);\n",
              "      border-left-color: var(--fill-color);\n",
              "    }\n",
              "    20% {\n",
              "      border-color: transparent;\n",
              "      border-left-color: var(--fill-color);\n",
              "      border-top-color: var(--fill-color);\n",
              "    }\n",
              "    30% {\n",
              "      border-color: transparent;\n",
              "      border-left-color: var(--fill-color);\n",
              "      border-top-color: var(--fill-color);\n",
              "      border-right-color: var(--fill-color);\n",
              "    }\n",
              "    40% {\n",
              "      border-color: transparent;\n",
              "      border-right-color: var(--fill-color);\n",
              "      border-top-color: var(--fill-color);\n",
              "    }\n",
              "    60% {\n",
              "      border-color: transparent;\n",
              "      border-right-color: var(--fill-color);\n",
              "    }\n",
              "    80% {\n",
              "      border-color: transparent;\n",
              "      border-right-color: var(--fill-color);\n",
              "      border-bottom-color: var(--fill-color);\n",
              "    }\n",
              "    90% {\n",
              "      border-color: transparent;\n",
              "      border-bottom-color: var(--fill-color);\n",
              "    }\n",
              "  }\n",
              "</style>\n",
              "\n",
              "  <script>\n",
              "    async function quickchart(key) {\n",
              "      const quickchartButtonEl =\n",
              "        document.querySelector('#' + key + ' button');\n",
              "      quickchartButtonEl.disabled = true;  // To prevent multiple clicks.\n",
              "      quickchartButtonEl.classList.add('colab-df-spinner');\n",
              "      try {\n",
              "        const charts = await google.colab.kernel.invokeFunction(\n",
              "            'suggestCharts', [key], {});\n",
              "      } catch (error) {\n",
              "        console.error('Error during call to suggestCharts:', error);\n",
              "      }\n",
              "      quickchartButtonEl.classList.remove('colab-df-spinner');\n",
              "      quickchartButtonEl.classList.add('colab-df-quickchart-complete');\n",
              "    }\n",
              "    (() => {\n",
              "      let quickchartButtonEl =\n",
              "        document.querySelector('#df-1056a828-7788-4b28-b9fc-728b91e844fd button');\n",
              "      quickchartButtonEl.style.display =\n",
              "        google.colab.kernel.accessAllowed ? 'block' : 'none';\n",
              "    })();\n",
              "  </script>\n",
              "</div>\n",
              "\n",
              "    </div>\n",
              "  </div>\n"
            ],
            "application/vnd.google.colaboratory.intrinsic+json": {
              "type": "dataframe",
              "variable_name": "triples",
              "summary": "{\n  \"name\": \"triples\",\n  \"rows\": 684,\n  \"fields\": [\n    {\n      \"column\": \"chunk_id\",\n      \"properties\": {\n        \"dtype\": \"category\",\n        \"num_unique_values\": 136,\n        \"samples\": [\n          \"Chunk_74\",\n          \"Chunk_46\",\n          \"Chunk_61\"\n        ],\n        \"semantic_type\": \"\",\n        \"description\": \"\"\n      }\n    },\n    {\n      \"column\": \"head\",\n      \"properties\": {\n        \"dtype\": \"string\",\n        \"num_unique_values\": 409,\n        \"samples\": [\n          \"banking crisis\",\n          \"Islandeady GAA\",\n          \"Taoiseach\"\n        ],\n        \"semantic_type\": \"\",\n        \"description\": \"\"\n      }\n    },\n    {\n      \"column\": \"type\",\n      \"properties\": {\n        \"dtype\": \"category\",\n        \"num_unique_values\": 79,\n        \"samples\": [\n          \"has cause\",\n          \"country\",\n          \"point in time\"\n        ],\n        \"semantic_type\": \"\",\n        \"description\": \"\"\n      }\n    },\n    {\n      \"column\": \"tail\",\n      \"properties\": {\n        \"dtype\": \"category\",\n        \"num_unique_values\": 337,\n        \"samples\": [\n          \"Universal Analytics\",\n          \"The Irish Times\",\n          \"Secretaries of the Department\"\n        ],\n        \"semantic_type\": \"\",\n        \"description\": \"\"\n      }\n    }\n  ]\n}"
            }
          },
          "metadata": {},
          "execution_count": 19
        }
      ],
      "source": [
        "triples = pd.read_excel('triples_data.xlsx')\n",
        "triples.head()"
      ]
    },
    {
      "cell_type": "markdown",
      "source": [
        "**Triple relations cleaning: Replace any non-alphanumeric characters with underscores.**"
      ],
      "metadata": {
        "id": "UPBgu98ShJ6L"
      }
    },
    {
      "cell_type": "code",
      "source": [
        "def sanitize_relation_type(relation):\n",
        "    return re.sub(r'\\W+', '_', relation)"
      ],
      "metadata": {
        "id": "MMlzUIpeAaMf"
      },
      "execution_count": 20,
      "outputs": []
    },
    {
      "cell_type": "markdown",
      "source": [
        "**Creating the knowledge database using Neo4j driver and with the head, cleanned relation text , and tail of the triple.**"
      ],
      "metadata": {
        "id": "6CobcnoRhcqu"
      }
    },
    {
      "cell_type": "code",
      "source": [
        "from neo4j import GraphDatabase, basic_auth\n",
        "\n",
        "driver = GraphDatabase.driver(\n",
        "  \"bolt://3.83.136.242:7687\",\n",
        "  auth=basic_auth(\"neo4j\", \"firings-lock-conflicts\"))\n",
        "\n",
        "def create_knowledge_graph(triples):\n",
        "    with driver.session() as session:\n",
        "        for _, triple in triples.iterrows():\n",
        "            head = triple['head']\n",
        "            relation = sanitize_relation_type(triple['type']) #Applying text cleaning function on the relations in triples.\n",
        "            tail = triple['tail']\n",
        "\n",
        "            cypher_query = f\"\"\"\n",
        "            MERGE (h:Entity {{name: $head}})\n",
        "            MERGE (t:Entity {{name: $tail}})\n",
        "            MERGE (h)-[:{relation.upper()}]->(t)\n",
        "            \"\"\"\n",
        "\n",
        "            session.run(cypher_query, head=head, tail=tail)\n"
      ],
      "metadata": {
        "id": "WDpbfyTE7yn_"
      },
      "execution_count": 21,
      "outputs": []
    },
    {
      "cell_type": "code",
      "source": [
        "create_knowledge_graph(triples)"
      ],
      "metadata": {
        "id": "_GQOIe9o-0ju"
      },
      "execution_count": 22,
      "outputs": []
    },
    {
      "cell_type": "markdown",
      "source": [
        "**Querying Knowledge DB to check the total number of nodes.**"
      ],
      "metadata": {
        "id": "IOZko_g1h_mp"
      }
    },
    {
      "cell_type": "code",
      "source": [
        "from neo4j import GraphDatabase, basic_auth\n",
        "\n",
        "driver = GraphDatabase.driver(\n",
        "  \"bolt://3.83.136.242:7687\",\n",
        "  auth=basic_auth(\"neo4j\", \"firings-lock-conflicts\"))\n",
        "\n",
        "cypher_query = '''\n",
        "MATCH (n)\n",
        "RETURN COUNT(n) AS count\n",
        "LIMIT $limit\n",
        "'''\n",
        "\n",
        "with driver.session(database=\"neo4j\") as session:\n",
        "  results = session.read_transaction(\n",
        "    lambda tx: tx.run(cypher_query,\n",
        "                      limit=10).data())\n",
        "  for record in results:\n",
        "    print(record['count'])\n",
        "\n",
        "driver.close()"
      ],
      "metadata": {
        "colab": {
          "base_uri": "https://localhost:8080/"
        },
        "id": "6yloev8--J-h",
        "outputId": "6af36493-02b8-40cb-ca06-817c9b763cfe"
      },
      "execution_count": 23,
      "outputs": [
        {
          "output_type": "stream",
          "name": "stderr",
          "text": [
            "<ipython-input-23-cfa5160c8f9a>:14: DeprecationWarning: read_transaction has been renamed to execute_read\n",
            "  results = session.read_transaction(\n"
          ]
        },
        {
          "output_type": "stream",
          "name": "stdout",
          "text": [
            "606\n"
          ]
        }
      ]
    },
    {
      "cell_type": "markdown",
      "source": [
        "**Relations where 'Enda Kenny' is the head in the triple.**"
      ],
      "metadata": {
        "id": "qSCCKb2OoEtI"
      }
    },
    {
      "cell_type": "code",
      "source": [
        "from neo4j import GraphDatabase, basic_auth\n",
        "\n",
        "# Establish connection\n",
        "driver = GraphDatabase.driver(\n",
        "    \"bolt://3.83.136.242:7687\",\n",
        "    auth=basic_auth(\"neo4j\", \"firings-lock-conflicts\")\n",
        ")\n",
        "\n",
        "def get_relations_where_head_is_enda(driver):\n",
        "    query = \"\"\"\n",
        "    MATCH (h:Entity {name: 'Enda Kenny'})-[r]->(t:Entity)\n",
        "    RETURN h.name AS head, TYPE(r) AS relation, t.name AS tail\n",
        "    \"\"\"\n",
        "\n",
        "    relations = []\n",
        "    with driver.session() as session:\n",
        "        result = session.run(query)\n",
        "        for record in result:\n",
        "            relations.append({\n",
        "                'head': record['head'],\n",
        "                'relation': record['relation'],\n",
        "                'tail': record['tail']\n",
        "            })\n",
        "\n",
        "    return relations\n",
        "\n",
        "# Execute the query and get the relations\n",
        "relations_where_head_is_enda = get_relations_where_head_is_enda(driver)\n",
        "\n",
        "# Print the relations\n",
        "print(\"Relations where 'Enda Kenny' is the head:\")\n",
        "for relation in relations_where_head_is_enda:\n",
        "    print(relation)\n",
        "\n",
        "# Close the driver connection\n",
        "driver.close()"
      ],
      "metadata": {
        "colab": {
          "base_uri": "https://localhost:8080/"
        },
        "id": "1xDIz6_VZ581",
        "outputId": "6f3fd7ce-7086-4999-d87d-1706148ac50c"
      },
      "execution_count": 24,
      "outputs": [
        {
          "output_type": "stream",
          "name": "stdout",
          "text": [
            "Relations where 'Enda Kenny' is the head:\n",
            "{'head': 'Enda Kenny', 'relation': 'CANDIDACY_IN_ELECTION', 'tail': '2011 general election'}\n",
            "{'head': 'Enda Kenny', 'relation': 'CANDIDACY_IN_ELECTION', 'tail': '2002 general election'}\n",
            "{'head': 'Enda Kenny', 'relation': 'SPOUSE', 'tail': 'Fionnuala OKelly'}\n",
            "{'head': 'Enda Kenny', 'relation': 'CANDIDACY_IN_ELECTION', 'tail': '2011 election campaign'}\n",
            "{'head': 'Enda Kenny', 'relation': 'NOTABLE_WORK', 'tail': 'Second national address'}\n",
            "{'head': 'Enda Kenny', 'relation': 'POSITION_HELD', 'tail': 'European Commission president'}\n",
            "{'head': 'Enda Kenny', 'relation': 'POSITION_HELD', 'tail': 'European Council president'}\n",
            "{'head': 'Enda Kenny', 'relation': 'POSITION_HELD', 'tail': 'Prime Minister'}\n",
            "{'head': 'Enda Kenny', 'relation': 'CANDIDACY_IN_ELECTION', 'tail': '2007 election'}\n",
            "{'head': 'Enda Kenny', 'relation': 'EMPLOYER', 'tail': 'TG4'}\n",
            "{'head': 'Enda Kenny', 'relation': 'EMPLOYER', 'tail': 'RTÉ'}\n",
            "{'head': 'Enda Kenny', 'relation': 'EMPLOYER', 'tail': 'TV3 RTÉ'}\n",
            "{'head': 'Enda Kenny', 'relation': 'POSITION_HELD', 'tail': 'VicePresident of the EPP'}\n",
            "{'head': 'Enda Kenny', 'relation': 'POSITION_HELD', 'tail': 'VicePresident of the European Peoples Party'}\n",
            "{'head': 'Enda Kenny', 'relation': 'MEMBER_OF_POLITICAL_PARTY', 'tail': 'European Peoples Party'}\n",
            "{'head': 'Enda Kenny', 'relation': 'FATHER', 'tail': 'Henry Kenny'}\n",
            "{'head': 'Enda Kenny', 'relation': 'POSITION_HELD', 'tail': 'Minister for Tourism and Trade'}\n",
            "{'head': 'Enda Kenny', 'relation': 'POSITION_HELD', 'tail': 'Leader of the Opposition'}\n",
            "{'head': 'Enda Kenny', 'relation': 'POSITION_HELD', 'tail': 'Minister for Defence'}\n",
            "{'head': 'Enda Kenny', 'relation': 'POSITION_HELD', 'tail': 'Leader of Fine Gael'}\n",
            "{'head': 'Enda Kenny', 'relation': 'POSITION_HELD', 'tail': 'Taoiseach'}\n",
            "{'head': 'Enda Kenny', 'relation': 'MEMBER_OF_POLITICAL_PARTY', 'tail': 'Fine Gael'}\n"
          ]
        }
      ]
    },
    {
      "cell_type": "markdown",
      "source": [
        "**All committee members related to Food Wise, wherever 'Food Wise' is in head or tail part of the triple.**"
      ],
      "metadata": {
        "id": "WEu2tsXxoJ49"
      }
    },
    {
      "cell_type": "code",
      "source": [
        "from neo4j import GraphDatabase, basic_auth\n",
        "\n",
        "# Establish connection\n",
        "driver = GraphDatabase.driver(\n",
        "    \"bolt://3.83.136.242:7687\",\n",
        "    auth=basic_auth(\"neo4j\", \"firings-lock-conflicts\")\n",
        ")\n",
        "\n",
        "def get_all_food_wise_relations(driver):\n",
        "    query = \"\"\"\n",
        "    MATCH (n)-[r]->(m)\n",
        "    WHERE (n.name CONTAINS 'Food Wise' OR m.name CONTAINS 'Food Wise' OR TYPE(r) CONTAINS '_COMMITTEE_MEMBER')\n",
        "    RETURN n AS node1, r AS relation, m AS node2\n",
        "    \"\"\"\n",
        "\n",
        "    relations = []\n",
        "    with driver.session() as session:\n",
        "        result = session.run(query)\n",
        "        for record in result:\n",
        "            node1 = record['node1']\n",
        "            relation = record['relation']\n",
        "            node2 = record['node2']\n",
        "            relations.append({\n",
        "                'node1': node1,\n",
        "                'relation': relation,\n",
        "                'node2': node2\n",
        "            })\n",
        "\n",
        "    return relations\n",
        "\n",
        "# Execute the query and get the relations\n",
        "food_wise_relations = get_all_food_wise_relations(driver)\n",
        "\n",
        "# Print the relations\n",
        "print(\"Relations containing 'Food Wise':\")\n",
        "for relation in food_wise_relations:\n",
        "    print(relation)\n",
        "\n",
        "# Close the driver connection\n",
        "driver.close()\n"
      ],
      "metadata": {
        "colab": {
          "base_uri": "https://localhost:8080/"
        },
        "id": "XG9nxIsucUQS",
        "outputId": "e6634d1a-e30e-466b-88d3-fdafa9033e8f"
      },
      "execution_count": 32,
      "outputs": [
        {
          "output_type": "stream",
          "name": "stdout",
          "text": [
            "Relations containing 'Food Wise':\n",
            "{'node1': <Node element_id='4:75ed9e99-b1d5-420f-af2b-6768ccc4d558:154' labels=frozenset({'Entity'}) properties={'name': 'Tom Arnold'}>, 'relation': <Relationship element_id='5:75ed9e99-b1d5-420f-af2b-6768ccc4d558:629' nodes=(<Node element_id='4:75ed9e99-b1d5-420f-af2b-6768ccc4d558:154' labels=frozenset({'Entity'}) properties={'name': 'Tom Arnold'}>, <Node element_id='4:75ed9e99-b1d5-420f-af2b-6768ccc4d558:577' labels=frozenset({'Entity'}) properties={'name': 'Food Wise 2025'}>) type='_COMMITTEE_MEMBER' properties={}>, 'node2': <Node element_id='4:75ed9e99-b1d5-420f-af2b-6768ccc4d558:577' labels=frozenset({'Entity'}) properties={'name': 'Food Wise 2025'}>}\n",
            "{'node1': <Node element_id='4:75ed9e99-b1d5-420f-af2b-6768ccc4d558:578' labels=frozenset({'Entity'}) properties={'name': 'Sharon Buckley'}>, 'relation': <Relationship element_id='5:75ed9e99-b1d5-420f-af2b-6768ccc4d558:630' nodes=(<Node element_id='4:75ed9e99-b1d5-420f-af2b-6768ccc4d558:578' labels=frozenset({'Entity'}) properties={'name': 'Sharon Buckley'}>, <Node element_id='4:75ed9e99-b1d5-420f-af2b-6768ccc4d558:577' labels=frozenset({'Entity'}) properties={'name': 'Food Wise 2025'}>) type='_COMMITTEE_MEMBER' properties={}>, 'node2': <Node element_id='4:75ed9e99-b1d5-420f-af2b-6768ccc4d558:577' labels=frozenset({'Entity'}) properties={'name': 'Food Wise 2025'}>}\n",
            "{'node1': <Node element_id='4:75ed9e99-b1d5-420f-af2b-6768ccc4d558:579' labels=frozenset({'Entity'}) properties={'name': 'Laura Burke'}>, 'relation': <Relationship element_id='5:75ed9e99-b1d5-420f-af2b-6768ccc4d558:631' nodes=(<Node element_id='4:75ed9e99-b1d5-420f-af2b-6768ccc4d558:579' labels=frozenset({'Entity'}) properties={'name': 'Laura Burke'}>, <Node element_id='4:75ed9e99-b1d5-420f-af2b-6768ccc4d558:577' labels=frozenset({'Entity'}) properties={'name': 'Food Wise 2025'}>) type='_COMMITTEE_MEMBER' properties={}>, 'node2': <Node element_id='4:75ed9e99-b1d5-420f-af2b-6768ccc4d558:577' labels=frozenset({'Entity'}) properties={'name': 'Food Wise 2025'}>}\n",
            "{'node1': <Node element_id='4:75ed9e99-b1d5-420f-af2b-6768ccc4d558:580' labels=frozenset({'Entity'}) properties={'name': 'Ailish Byrne'}>, 'relation': <Relationship element_id='5:75ed9e99-b1d5-420f-af2b-6768ccc4d558:632' nodes=(<Node element_id='4:75ed9e99-b1d5-420f-af2b-6768ccc4d558:580' labels=frozenset({'Entity'}) properties={'name': 'Ailish Byrne'}>, <Node element_id='4:75ed9e99-b1d5-420f-af2b-6768ccc4d558:577' labels=frozenset({'Entity'}) properties={'name': 'Food Wise 2025'}>) type='_COMMITTEE_MEMBER' properties={}>, 'node2': <Node element_id='4:75ed9e99-b1d5-420f-af2b-6768ccc4d558:577' labels=frozenset({'Entity'}) properties={'name': 'Food Wise 2025'}>}\n",
            "{'node1': <Node element_id='4:75ed9e99-b1d5-420f-af2b-6768ccc4d558:581' labels=frozenset({'Entity'}) properties={'name': 'Kieran Calnan'}>, 'relation': <Relationship element_id='5:75ed9e99-b1d5-420f-af2b-6768ccc4d558:633' nodes=(<Node element_id='4:75ed9e99-b1d5-420f-af2b-6768ccc4d558:581' labels=frozenset({'Entity'}) properties={'name': 'Kieran Calnan'}>, <Node element_id='4:75ed9e99-b1d5-420f-af2b-6768ccc4d558:577' labels=frozenset({'Entity'}) properties={'name': 'Food Wise 2025'}>) type='_COMMITTEE_MEMBER' properties={}>, 'node2': <Node element_id='4:75ed9e99-b1d5-420f-af2b-6768ccc4d558:577' labels=frozenset({'Entity'}) properties={'name': 'Food Wise 2025'}>}\n",
            "{'node1': <Node element_id='4:75ed9e99-b1d5-420f-af2b-6768ccc4d558:582' labels=frozenset({'Entity'}) properties={'name': 'Philip Carroll'}>, 'relation': <Relationship element_id='5:75ed9e99-b1d5-420f-af2b-6768ccc4d558:634' nodes=(<Node element_id='4:75ed9e99-b1d5-420f-af2b-6768ccc4d558:582' labels=frozenset({'Entity'}) properties={'name': 'Philip Carroll'}>, <Node element_id='4:75ed9e99-b1d5-420f-af2b-6768ccc4d558:577' labels=frozenset({'Entity'}) properties={'name': 'Food Wise 2025'}>) type='_COMMITTEE_MEMBER' properties={}>, 'node2': <Node element_id='4:75ed9e99-b1d5-420f-af2b-6768ccc4d558:577' labels=frozenset({'Entity'}) properties={'name': 'Food Wise 2025'}>}\n",
            "{'node1': <Node element_id='4:75ed9e99-b1d5-420f-af2b-6768ccc4d558:583' labels=frozenset({'Entity'}) properties={'name': 'Frank Convery'}>, 'relation': <Relationship element_id='5:75ed9e99-b1d5-420f-af2b-6768ccc4d558:635' nodes=(<Node element_id='4:75ed9e99-b1d5-420f-af2b-6768ccc4d558:583' labels=frozenset({'Entity'}) properties={'name': 'Frank Convery'}>, <Node element_id='4:75ed9e99-b1d5-420f-af2b-6768ccc4d558:577' labels=frozenset({'Entity'}) properties={'name': 'Food Wise 2025'}>) type='_COMMITTEE_MEMBER' properties={}>, 'node2': <Node element_id='4:75ed9e99-b1d5-420f-af2b-6768ccc4d558:577' labels=frozenset({'Entity'}) properties={'name': 'Food Wise 2025'}>}\n",
            "{'node1': <Node element_id='4:75ed9e99-b1d5-420f-af2b-6768ccc4d558:584' labels=frozenset({'Entity'}) properties={'name': 'Thomas Duffy'}>, 'relation': <Relationship element_id='5:75ed9e99-b1d5-420f-af2b-6768ccc4d558:636' nodes=(<Node element_id='4:75ed9e99-b1d5-420f-af2b-6768ccc4d558:584' labels=frozenset({'Entity'}) properties={'name': 'Thomas Duffy'}>, <Node element_id='4:75ed9e99-b1d5-420f-af2b-6768ccc4d558:577' labels=frozenset({'Entity'}) properties={'name': 'Food Wise 2025'}>) type='_COMMITTEE_MEMBER' properties={}>, 'node2': <Node element_id='4:75ed9e99-b1d5-420f-af2b-6768ccc4d558:577' labels=frozenset({'Entity'}) properties={'name': 'Food Wise 2025'}>}\n",
            "{'node1': <Node element_id='4:75ed9e99-b1d5-420f-af2b-6768ccc4d558:585' labels=frozenset({'Entity'}) properties={'name': 'Brendan Dunford'}>, 'relation': <Relationship element_id='5:75ed9e99-b1d5-420f-af2b-6768ccc4d558:637' nodes=(<Node element_id='4:75ed9e99-b1d5-420f-af2b-6768ccc4d558:585' labels=frozenset({'Entity'}) properties={'name': 'Brendan Dunford'}>, <Node element_id='4:75ed9e99-b1d5-420f-af2b-6768ccc4d558:577' labels=frozenset({'Entity'}) properties={'name': 'Food Wise 2025'}>) type='_COMMITTEE_MEMBER' properties={}>, 'node2': <Node element_id='4:75ed9e99-b1d5-420f-af2b-6768ccc4d558:577' labels=frozenset({'Entity'}) properties={'name': 'Food Wise 2025'}>}\n",
            "{'node1': <Node element_id='4:75ed9e99-b1d5-420f-af2b-6768ccc4d558:586' labels=frozenset({'Entity'}) properties={'name': 'Julie Ennis'}>, 'relation': <Relationship element_id='5:75ed9e99-b1d5-420f-af2b-6768ccc4d558:638' nodes=(<Node element_id='4:75ed9e99-b1d5-420f-af2b-6768ccc4d558:586' labels=frozenset({'Entity'}) properties={'name': 'Julie Ennis'}>, <Node element_id='4:75ed9e99-b1d5-420f-af2b-6768ccc4d558:577' labels=frozenset({'Entity'}) properties={'name': 'Food Wise 2025'}>) type='_COMMITTEE_MEMBER' properties={}>, 'node2': <Node element_id='4:75ed9e99-b1d5-420f-af2b-6768ccc4d558:577' labels=frozenset({'Entity'}) properties={'name': 'Food Wise 2025'}>}\n",
            "{'node1': <Node element_id='4:75ed9e99-b1d5-420f-af2b-6768ccc4d558:587' labels=frozenset({'Entity'}) properties={'name': 'Paul Finnerty'}>, 'relation': <Relationship element_id='5:75ed9e99-b1d5-420f-af2b-6768ccc4d558:639' nodes=(<Node element_id='4:75ed9e99-b1d5-420f-af2b-6768ccc4d558:587' labels=frozenset({'Entity'}) properties={'name': 'Paul Finnerty'}>, <Node element_id='4:75ed9e99-b1d5-420f-af2b-6768ccc4d558:577' labels=frozenset({'Entity'}) properties={'name': 'Food Wise 2025'}>) type='_COMMITTEE_MEMBER' properties={}>, 'node2': <Node element_id='4:75ed9e99-b1d5-420f-af2b-6768ccc4d558:577' labels=frozenset({'Entity'}) properties={'name': 'Food Wise 2025'}>}\n",
            "{'node1': <Node element_id='4:75ed9e99-b1d5-420f-af2b-6768ccc4d558:38' labels=frozenset({'Entity'}) properties={'name': 'Joe Healy'}>, 'relation': <Relationship element_id='5:75ed9e99-b1d5-420f-af2b-6768ccc4d558:640' nodes=(<Node element_id='4:75ed9e99-b1d5-420f-af2b-6768ccc4d558:38' labels=frozenset({'Entity'}) properties={'name': 'Joe Healy'}>, <Node element_id='4:75ed9e99-b1d5-420f-af2b-6768ccc4d558:577' labels=frozenset({'Entity'}) properties={'name': 'Food Wise 2025'}>) type='_COMMITTEE_MEMBER' properties={}>, 'node2': <Node element_id='4:75ed9e99-b1d5-420f-af2b-6768ccc4d558:577' labels=frozenset({'Entity'}) properties={'name': 'Food Wise 2025'}>}\n",
            "{'node1': <Node element_id='4:75ed9e99-b1d5-420f-af2b-6768ccc4d558:588' labels=frozenset({'Entity'}) properties={'name': 'Thia Hennessy'}>, 'relation': <Relationship element_id='5:75ed9e99-b1d5-420f-af2b-6768ccc4d558:641' nodes=(<Node element_id='4:75ed9e99-b1d5-420f-af2b-6768ccc4d558:588' labels=frozenset({'Entity'}) properties={'name': 'Thia Hennessy'}>, <Node element_id='4:75ed9e99-b1d5-420f-af2b-6768ccc4d558:577' labels=frozenset({'Entity'}) properties={'name': 'Food Wise 2025'}>) type='_COMMITTEE_MEMBER' properties={}>, 'node2': <Node element_id='4:75ed9e99-b1d5-420f-af2b-6768ccc4d558:577' labels=frozenset({'Entity'}) properties={'name': 'Food Wise 2025'}>}\n",
            "{'node1': <Node element_id='4:75ed9e99-b1d5-420f-af2b-6768ccc4d558:589' labels=frozenset({'Entity'}) properties={'name': 'Liam Herlihy'}>, 'relation': <Relationship element_id='5:75ed9e99-b1d5-420f-af2b-6768ccc4d558:642' nodes=(<Node element_id='4:75ed9e99-b1d5-420f-af2b-6768ccc4d558:589' labels=frozenset({'Entity'}) properties={'name': 'Liam Herlihy'}>, <Node element_id='4:75ed9e99-b1d5-420f-af2b-6768ccc4d558:577' labels=frozenset({'Entity'}) properties={'name': 'Food Wise 2025'}>) type='_COMMITTEE_MEMBER' properties={}>, 'node2': <Node element_id='4:75ed9e99-b1d5-420f-af2b-6768ccc4d558:577' labels=frozenset({'Entity'}) properties={'name': 'Food Wise 2025'}>}\n",
            "{'node1': <Node element_id='4:75ed9e99-b1d5-420f-af2b-6768ccc4d558:590' labels=frozenset({'Entity'}) properties={'name': 'Caroline Keeling'}>, 'relation': <Relationship element_id='5:75ed9e99-b1d5-420f-af2b-6768ccc4d558:643' nodes=(<Node element_id='4:75ed9e99-b1d5-420f-af2b-6768ccc4d558:590' labels=frozenset({'Entity'}) properties={'name': 'Caroline Keeling'}>, <Node element_id='4:75ed9e99-b1d5-420f-af2b-6768ccc4d558:577' labels=frozenset({'Entity'}) properties={'name': 'Food Wise 2025'}>) type='_COMMITTEE_MEMBER' properties={}>, 'node2': <Node element_id='4:75ed9e99-b1d5-420f-af2b-6768ccc4d558:577' labels=frozenset({'Entity'}) properties={'name': 'Food Wise 2025'}>}\n",
            "{'node1': <Node element_id='4:75ed9e99-b1d5-420f-af2b-6768ccc4d558:591' labels=frozenset({'Entity'}) properties={'name': 'Jerry Long'}>, 'relation': <Relationship element_id='5:75ed9e99-b1d5-420f-af2b-6768ccc4d558:644' nodes=(<Node element_id='4:75ed9e99-b1d5-420f-af2b-6768ccc4d558:591' labels=frozenset({'Entity'}) properties={'name': 'Jerry Long'}>, <Node element_id='4:75ed9e99-b1d5-420f-af2b-6768ccc4d558:577' labels=frozenset({'Entity'}) properties={'name': 'Food Wise 2025'}>) type='_COMMITTEE_MEMBER' properties={}>, 'node2': <Node element_id='4:75ed9e99-b1d5-420f-af2b-6768ccc4d558:577' labels=frozenset({'Entity'}) properties={'name': 'Food Wise 2025'}>}\n",
            "{'node1': <Node element_id='4:75ed9e99-b1d5-420f-af2b-6768ccc4d558:592' labels=frozenset({'Entity'}) properties={'name': 'Oliver Loomes'}>, 'relation': <Relationship element_id='5:75ed9e99-b1d5-420f-af2b-6768ccc4d558:645' nodes=(<Node element_id='4:75ed9e99-b1d5-420f-af2b-6768ccc4d558:592' labels=frozenset({'Entity'}) properties={'name': 'Oliver Loomes'}>, <Node element_id='4:75ed9e99-b1d5-420f-af2b-6768ccc4d558:577' labels=frozenset({'Entity'}) properties={'name': 'Food Wise 2025'}>) type='_COMMITTEE_MEMBER' properties={}>, 'node2': <Node element_id='4:75ed9e99-b1d5-420f-af2b-6768ccc4d558:577' labels=frozenset({'Entity'}) properties={'name': 'Food Wise 2025'}>}\n",
            "{'node1': <Node element_id='4:75ed9e99-b1d5-420f-af2b-6768ccc4d558:593' labels=frozenset({'Entity'}) properties={'name': 'Dan McSweeney'}>, 'relation': <Relationship element_id='5:75ed9e99-b1d5-420f-af2b-6768ccc4d558:646' nodes=(<Node element_id='4:75ed9e99-b1d5-420f-af2b-6768ccc4d558:593' labels=frozenset({'Entity'}) properties={'name': 'Dan McSweeney'}>, <Node element_id='4:75ed9e99-b1d5-420f-af2b-6768ccc4d558:577' labels=frozenset({'Entity'}) properties={'name': 'Food Wise 2025'}>) type='_COMMITTEE_MEMBER' properties={}>, 'node2': <Node element_id='4:75ed9e99-b1d5-420f-af2b-6768ccc4d558:577' labels=frozenset({'Entity'}) properties={'name': 'Food Wise 2025'}>}\n",
            "{'node1': <Node element_id='4:75ed9e99-b1d5-420f-af2b-6768ccc4d558:594' labels=frozenset({'Entity'}) properties={'name': 'Pat McCormack'}>, 'relation': <Relationship element_id='5:75ed9e99-b1d5-420f-af2b-6768ccc4d558:647' nodes=(<Node element_id='4:75ed9e99-b1d5-420f-af2b-6768ccc4d558:594' labels=frozenset({'Entity'}) properties={'name': 'Pat McCormack'}>, <Node element_id='4:75ed9e99-b1d5-420f-af2b-6768ccc4d558:577' labels=frozenset({'Entity'}) properties={'name': 'Food Wise 2025'}>) type='_COMMITTEE_MEMBER' properties={}>, 'node2': <Node element_id='4:75ed9e99-b1d5-420f-af2b-6768ccc4d558:577' labels=frozenset({'Entity'}) properties={'name': 'Food Wise 2025'}>}\n",
            "{'node1': <Node element_id='4:75ed9e99-b1d5-420f-af2b-6768ccc4d558:595' labels=frozenset({'Entity'}) properties={'name': 'Tom Moran'}>, 'relation': <Relationship element_id='5:75ed9e99-b1d5-420f-af2b-6768ccc4d558:648' nodes=(<Node element_id='4:75ed9e99-b1d5-420f-af2b-6768ccc4d558:595' labels=frozenset({'Entity'}) properties={'name': 'Tom Moran'}>, <Node element_id='4:75ed9e99-b1d5-420f-af2b-6768ccc4d558:577' labels=frozenset({'Entity'}) properties={'name': 'Food Wise 2025'}>) type='_COMMITTEE_MEMBER' properties={}>, 'node2': <Node element_id='4:75ed9e99-b1d5-420f-af2b-6768ccc4d558:577' labels=frozenset({'Entity'}) properties={'name': 'Food Wise 2025'}>}\n",
            "{'node1': <Node element_id='4:75ed9e99-b1d5-420f-af2b-6768ccc4d558:596' labels=frozenset({'Entity'}) properties={'name': 'Brian Murphy'}>, 'relation': <Relationship element_id='5:75ed9e99-b1d5-420f-af2b-6768ccc4d558:649' nodes=(<Node element_id='4:75ed9e99-b1d5-420f-af2b-6768ccc4d558:596' labels=frozenset({'Entity'}) properties={'name': 'Brian Murphy'}>, <Node element_id='4:75ed9e99-b1d5-420f-af2b-6768ccc4d558:577' labels=frozenset({'Entity'}) properties={'name': 'Food Wise 2025'}>) type='_COMMITTEE_MEMBER' properties={}>, 'node2': <Node element_id='4:75ed9e99-b1d5-420f-af2b-6768ccc4d558:577' labels=frozenset({'Entity'}) properties={'name': 'Food Wise 2025'}>}\n",
            "{'node1': <Node element_id='4:75ed9e99-b1d5-420f-af2b-6768ccc4d558:597' labels=frozenset({'Entity'}) properties={'name': 'Pat Murphy'}>, 'relation': <Relationship element_id='5:75ed9e99-b1d5-420f-af2b-6768ccc4d558:650' nodes=(<Node element_id='4:75ed9e99-b1d5-420f-af2b-6768ccc4d558:597' labels=frozenset({'Entity'}) properties={'name': 'Pat Murphy'}>, <Node element_id='4:75ed9e99-b1d5-420f-af2b-6768ccc4d558:577' labels=frozenset({'Entity'}) properties={'name': 'Food Wise 2025'}>) type='_COMMITTEE_MEMBER' properties={}>, 'node2': <Node element_id='4:75ed9e99-b1d5-420f-af2b-6768ccc4d558:577' labels=frozenset({'Entity'}) properties={'name': 'Food Wise 2025'}>}\n",
            "{'node1': <Node element_id='4:75ed9e99-b1d5-420f-af2b-6768ccc4d558:598' labels=frozenset({'Entity'}) properties={'name': 'Larry Murrin'}>, 'relation': <Relationship element_id='5:75ed9e99-b1d5-420f-af2b-6768ccc4d558:651' nodes=(<Node element_id='4:75ed9e99-b1d5-420f-af2b-6768ccc4d558:598' labels=frozenset({'Entity'}) properties={'name': 'Larry Murrin'}>, <Node element_id='4:75ed9e99-b1d5-420f-af2b-6768ccc4d558:577' labels=frozenset({'Entity'}) properties={'name': 'Food Wise 2025'}>) type='_COMMITTEE_MEMBER' properties={}>, 'node2': <Node element_id='4:75ed9e99-b1d5-420f-af2b-6768ccc4d558:577' labels=frozenset({'Entity'}) properties={'name': 'Food Wise 2025'}>}\n",
            "{'node1': <Node element_id='4:75ed9e99-b1d5-420f-af2b-6768ccc4d558:599' labels=frozenset({'Entity'}) properties={'name': \"Colm O'Donnell\"}>, 'relation': <Relationship element_id='5:75ed9e99-b1d5-420f-af2b-6768ccc4d558:652' nodes=(<Node element_id='4:75ed9e99-b1d5-420f-af2b-6768ccc4d558:599' labels=frozenset({'Entity'}) properties={'name': \"Colm O'Donnell\"}>, <Node element_id='4:75ed9e99-b1d5-420f-af2b-6768ccc4d558:577' labels=frozenset({'Entity'}) properties={'name': 'Food Wise 2025'}>) type='_COMMITTEE_MEMBER' properties={}>, 'node2': <Node element_id='4:75ed9e99-b1d5-420f-af2b-6768ccc4d558:577' labels=frozenset({'Entity'}) properties={'name': 'Food Wise 2025'}>}\n",
            "{'node1': <Node element_id='4:75ed9e99-b1d5-420f-af2b-6768ccc4d558:600' labels=frozenset({'Entity'}) properties={'name': \"Sean O'Donoghue\"}>, 'relation': <Relationship element_id='5:75ed9e99-b1d5-420f-af2b-6768ccc4d558:653' nodes=(<Node element_id='4:75ed9e99-b1d5-420f-af2b-6768ccc4d558:600' labels=frozenset({'Entity'}) properties={'name': \"Sean O'Donoghue\"}>, <Node element_id='4:75ed9e99-b1d5-420f-af2b-6768ccc4d558:577' labels=frozenset({'Entity'}) properties={'name': 'Food Wise 2025'}>) type='_COMMITTEE_MEMBER' properties={}>, 'node2': <Node element_id='4:75ed9e99-b1d5-420f-af2b-6768ccc4d558:577' labels=frozenset({'Entity'}) properties={'name': 'Food Wise 2025'}>}\n",
            "{'node1': <Node element_id='4:75ed9e99-b1d5-420f-af2b-6768ccc4d558:601' labels=frozenset({'Entity'}) properties={'name': \"Dolores O'Riordan\"}>, 'relation': <Relationship element_id='5:75ed9e99-b1d5-420f-af2b-6768ccc4d558:654' nodes=(<Node element_id='4:75ed9e99-b1d5-420f-af2b-6768ccc4d558:601' labels=frozenset({'Entity'}) properties={'name': \"Dolores O'Riordan\"}>, <Node element_id='4:75ed9e99-b1d5-420f-af2b-6768ccc4d558:577' labels=frozenset({'Entity'}) properties={'name': 'Food Wise 2025'}>) type='_COMMITTEE_MEMBER' properties={}>, 'node2': <Node element_id='4:75ed9e99-b1d5-420f-af2b-6768ccc4d558:577' labels=frozenset({'Entity'}) properties={'name': 'Food Wise 2025'}>}\n",
            "{'node1': <Node element_id='4:75ed9e99-b1d5-420f-af2b-6768ccc4d558:602' labels=frozenset({'Entity'}) properties={'name': \"Terence O'Rourke\"}>, 'relation': <Relationship element_id='5:75ed9e99-b1d5-420f-af2b-6768ccc4d558:655' nodes=(<Node element_id='4:75ed9e99-b1d5-420f-af2b-6768ccc4d558:602' labels=frozenset({'Entity'}) properties={'name': \"Terence O'Rourke\"}>, <Node element_id='4:75ed9e99-b1d5-420f-af2b-6768ccc4d558:577' labels=frozenset({'Entity'}) properties={'name': 'Food Wise 2025'}>) type='_COMMITTEE_MEMBER' properties={}>, 'node2': <Node element_id='4:75ed9e99-b1d5-420f-af2b-6768ccc4d558:577' labels=frozenset({'Entity'}) properties={'name': 'Food Wise 2025'}>}\n",
            "{'node1': <Node element_id='4:75ed9e99-b1d5-420f-af2b-6768ccc4d558:603' labels=frozenset({'Entity'}) properties={'name': 'Edmond Phelan'}>, 'relation': <Relationship element_id='5:75ed9e99-b1d5-420f-af2b-6768ccc4d558:656' nodes=(<Node element_id='4:75ed9e99-b1d5-420f-af2b-6768ccc4d558:603' labels=frozenset({'Entity'}) properties={'name': 'Edmond Phelan'}>, <Node element_id='4:75ed9e99-b1d5-420f-af2b-6768ccc4d558:577' labels=frozenset({'Entity'}) properties={'name': 'Food Wise 2025'}>) type='_COMMITTEE_MEMBER' properties={}>, 'node2': <Node element_id='4:75ed9e99-b1d5-420f-af2b-6768ccc4d558:577' labels=frozenset({'Entity'}) properties={'name': 'Food Wise 2025'}>}\n",
            "{'node1': <Node element_id='4:75ed9e99-b1d5-420f-af2b-6768ccc4d558:604' labels=frozenset({'Entity'}) properties={'name': 'Alice Stanton'}>, 'relation': <Relationship element_id='5:75ed9e99-b1d5-420f-af2b-6768ccc4d558:657' nodes=(<Node element_id='4:75ed9e99-b1d5-420f-af2b-6768ccc4d558:604' labels=frozenset({'Entity'}) properties={'name': 'Alice Stanton'}>, <Node element_id='4:75ed9e99-b1d5-420f-af2b-6768ccc4d558:577' labels=frozenset({'Entity'}) properties={'name': 'Food Wise 2025'}>) type='_COMMITTEE_MEMBER' properties={}>, 'node2': <Node element_id='4:75ed9e99-b1d5-420f-af2b-6768ccc4d558:577' labels=frozenset({'Entity'}) properties={'name': 'Food Wise 2025'}>}\n",
            "{'node1': <Node element_id='4:75ed9e99-b1d5-420f-af2b-6768ccc4d558:605' labels=frozenset({'Entity'}) properties={'name': 'Siobhán Talbot'}>, 'relation': <Relationship element_id='5:75ed9e99-b1d5-420f-af2b-6768ccc4d558:658' nodes=(<Node element_id='4:75ed9e99-b1d5-420f-af2b-6768ccc4d558:605' labels=frozenset({'Entity'}) properties={'name': 'Siobhán Talbot'}>, <Node element_id='4:75ed9e99-b1d5-420f-af2b-6768ccc4d558:577' labels=frozenset({'Entity'}) properties={'name': 'Food Wise 2025'}>) type='_COMMITTEE_MEMBER' properties={}>, 'node2': <Node element_id='4:75ed9e99-b1d5-420f-af2b-6768ccc4d558:577' labels=frozenset({'Entity'}) properties={'name': 'Food Wise 2025'}>}\n"
          ]
        }
      ]
    }
  ]
}